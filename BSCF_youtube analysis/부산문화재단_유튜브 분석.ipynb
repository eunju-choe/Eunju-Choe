{
 "cells": [
  {
   "cell_type": "code",
   "execution_count": 1,
   "id": "1b329ddd",
   "metadata": {
    "ExecuteTime": {
     "end_time": "2023-04-05T05:06:42.045823Z",
     "start_time": "2023-04-05T05:06:41.239486Z"
    }
   },
   "outputs": [],
   "source": [
    "import pandas as pd\n",
    "import numpy as np\n",
    "import matplotlib.pyplot as plt\n",
    "import seaborn as sns\n",
    "import warnings\n",
    "warnings.filterwarnings('ignore')\n",
    "pd.set_option('display.max_columns', 30)\n",
    "\n",
    "\n",
    "from matplotlib import font_manager, rc\n",
    "path = '/usr/share/fonts/NanumGothicCoding.ttf'\n",
    "font_name = font_manager.FontProperties(fname=path).get_name()\n",
    "rc('font', family=font_name)"
   ]
  },
  {
   "cell_type": "code",
   "execution_count": 2,
   "id": "d73cbaa1",
   "metadata": {
    "ExecuteTime": {
     "end_time": "2023-04-05T05:06:42.076139Z",
     "start_time": "2023-04-05T05:06:42.050240Z"
    }
   },
   "outputs": [
    {
     "data": {
      "text/html": [
       "<div>\n",
       "<style scoped>\n",
       "    .dataframe tbody tr th:only-of-type {\n",
       "        vertical-align: middle;\n",
       "    }\n",
       "\n",
       "    .dataframe tbody tr th {\n",
       "        vertical-align: top;\n",
       "    }\n",
       "\n",
       "    .dataframe thead th {\n",
       "        text-align: right;\n",
       "    }\n",
       "</style>\n",
       "<table border=\"1\" class=\"dataframe\">\n",
       "  <thead>\n",
       "    <tr style=\"text-align: right;\">\n",
       "      <th></th>\n",
       "      <th>기관분류</th>\n",
       "      <th>기관명</th>\n",
       "      <th>접근성</th>\n",
       "      <th>링크</th>\n",
       "      <th>재생목록</th>\n",
       "      <th>채널</th>\n",
       "      <th>설명</th>\n",
       "      <th>가입일</th>\n",
       "      <th>최근 업로드</th>\n",
       "      <th>기준</th>\n",
       "      <th>업로드 기간</th>\n",
       "      <th>동영상 개수</th>\n",
       "      <th>평균 조회수</th>\n",
       "      <th>조회수</th>\n",
       "      <th>구독자</th>\n",
       "    </tr>\n",
       "  </thead>\n",
       "  <tbody>\n",
       "    <tr>\n",
       "      <th>0</th>\n",
       "      <td>미술관</td>\n",
       "      <td>국립현대미술관</td>\n",
       "      <td>2</td>\n",
       "      <td>1</td>\n",
       "      <td>16</td>\n",
       "      <td>0</td>\n",
       "      <td>1</td>\n",
       "      <td>2013-05-14</td>\n",
       "      <td>2021-07-10</td>\n",
       "      <td>2021-07-14</td>\n",
       "      <td>4</td>\n",
       "      <td>883</td>\n",
       "      <td>11900</td>\n",
       "      <td>6538000</td>\n",
       "      <td>19700</td>\n",
       "    </tr>\n",
       "    <tr>\n",
       "      <th>1</th>\n",
       "      <td>미술관</td>\n",
       "      <td>서울시립미술관</td>\n",
       "      <td>2</td>\n",
       "      <td>1</td>\n",
       "      <td>12</td>\n",
       "      <td>2</td>\n",
       "      <td>1</td>\n",
       "      <td>2012-07-02</td>\n",
       "      <td>2021-06-30</td>\n",
       "      <td>2021-07-14</td>\n",
       "      <td>14</td>\n",
       "      <td>390</td>\n",
       "      <td>383</td>\n",
       "      <td>252700</td>\n",
       "      <td>3500</td>\n",
       "    </tr>\n",
       "    <tr>\n",
       "      <th>2</th>\n",
       "      <td>미술관</td>\n",
       "      <td>부산시립미술관</td>\n",
       "      <td>2</td>\n",
       "      <td>1</td>\n",
       "      <td>9</td>\n",
       "      <td>0</td>\n",
       "      <td>1</td>\n",
       "      <td>2015-07-24</td>\n",
       "      <td>2021-07-09</td>\n",
       "      <td>2021-07-14</td>\n",
       "      <td>5</td>\n",
       "      <td>168</td>\n",
       "      <td>167</td>\n",
       "      <td>76600</td>\n",
       "      <td>비공개</td>\n",
       "    </tr>\n",
       "    <tr>\n",
       "      <th>3</th>\n",
       "      <td>미술관</td>\n",
       "      <td>부산현대미술관</td>\n",
       "      <td>2</td>\n",
       "      <td>0</td>\n",
       "      <td>6</td>\n",
       "      <td>1</td>\n",
       "      <td>1</td>\n",
       "      <td>2018-07-19</td>\n",
       "      <td>2021-05-07</td>\n",
       "      <td>2021-07-14</td>\n",
       "      <td>68</td>\n",
       "      <td>97</td>\n",
       "      <td>453</td>\n",
       "      <td>33300</td>\n",
       "      <td>457</td>\n",
       "    </tr>\n",
       "    <tr>\n",
       "      <th>4</th>\n",
       "      <td>미술관</td>\n",
       "      <td>대구문화예술회관 미술관</td>\n",
       "      <td>2</td>\n",
       "      <td>0</td>\n",
       "      <td>0</td>\n",
       "      <td>0</td>\n",
       "      <td>1</td>\n",
       "      <td>2020-07-14</td>\n",
       "      <td>2021-05-14</td>\n",
       "      <td>2021-07-14</td>\n",
       "      <td>61</td>\n",
       "      <td>26</td>\n",
       "      <td>44</td>\n",
       "      <td>1168</td>\n",
       "      <td>13</td>\n",
       "    </tr>\n",
       "  </tbody>\n",
       "</table>\n",
       "</div>"
      ],
      "text/plain": [
       "  기관분류           기관명  접근성 링크 재생목록 채널 설명         가입일      최근 업로드          기준  \\\n",
       "0  미술관       국립현대미술관    2  1   16  0  1  2013-05-14  2021-07-10  2021-07-14   \n",
       "1  미술관       서울시립미술관    2  1   12  2  1  2012-07-02  2021-06-30  2021-07-14   \n",
       "2  미술관       부산시립미술관    2  1    9  0  1  2015-07-24  2021-07-09  2021-07-14   \n",
       "3  미술관       부산현대미술관    2  0    6  1  1  2018-07-19  2021-05-07  2021-07-14   \n",
       "4  미술관  대구문화예술회관 미술관    2  0    0  0  1  2020-07-14  2021-05-14  2021-07-14   \n",
       "\n",
       "  업로드 기간 동영상 개수 평균 조회수      조회수    구독자  \n",
       "0      4    883  11900  6538000  19700  \n",
       "1     14    390    383   252700   3500  \n",
       "2      5    168    167    76600    비공개  \n",
       "3     68     97    453    33300    457  \n",
       "4     61     26     44     1168     13  "
      ]
     },
     "execution_count": 2,
     "metadata": {},
     "output_type": "execute_result"
    }
   ],
   "source": [
    "df = pd.read_csv('youtube.csv')\n",
    "df.head()"
   ]
  },
  {
   "cell_type": "markdown",
   "id": "1387eecc",
   "metadata": {},
   "source": [
    "# 1. 데이터 정제"
   ]
  },
  {
   "cell_type": "markdown",
   "id": "15a4ed9e",
   "metadata": {},
   "source": [
    "## 1.1. 가입연도 데이터 추가\n",
    "- 가입일에서 추출"
   ]
  },
  {
   "cell_type": "code",
   "execution_count": 3,
   "id": "4530a96c",
   "metadata": {
    "ExecuteTime": {
     "end_time": "2023-04-05T05:06:42.082603Z",
     "start_time": "2023-04-05T05:06:42.078172Z"
    },
    "scrolled": false
   },
   "outputs": [],
   "source": [
    "df['가입연도'] = df['가입일'].apply(lambda x : x.split('-')[0] if x != '-' else x)"
   ]
  },
  {
   "cell_type": "markdown",
   "id": "9e05a1aa",
   "metadata": {},
   "source": [
    "## 1.2. '-'로 표시된 결측치를 None 값으로 변경\n",
    "- 구독자 : '비공개'도 None 값으로 변경\n",
    "- 최근 업로드 : '없음'도 None 값으로 변경"
   ]
  },
  {
   "cell_type": "code",
   "execution_count": 4,
   "id": "d95cc6e9",
   "metadata": {
    "ExecuteTime": {
     "end_time": "2023-04-05T05:06:42.101165Z",
     "start_time": "2023-04-05T05:06:42.085261Z"
    },
    "scrolled": false
   },
   "outputs": [],
   "source": [
    "cols = ['링크', '재생목록', '채널', '설명', '가입일', '최근 업로드', '기준', '업로드 기간', '동영상 개수', '평균 조회수', '조회수',\n",
    "        '구독자', '가입연도']\n",
    "\n",
    "for col in cols :\n",
    "    df[col] = df[col].apply(lambda x : None if x == '-' else x)\n",
    "    \n",
    "df['구독자'] = df['구독자'].apply(lambda x : None if x == '비공개' else x)\n",
    "df['최근 업로드'] = df['최근 업로드'].apply(lambda x : None if x == '없음' else x)"
   ]
  },
  {
   "cell_type": "markdown",
   "id": "225e68df",
   "metadata": {},
   "source": [
    "## 1.3. 변수의 데이터 타입 변경"
   ]
  },
  {
   "cell_type": "code",
   "execution_count": 5,
   "id": "69f13022",
   "metadata": {
    "ExecuteTime": {
     "end_time": "2023-04-05T05:06:42.112253Z",
     "start_time": "2023-04-05T05:06:42.103249Z"
    }
   },
   "outputs": [],
   "source": [
    "df = df.astype({'링크' : 'float', \n",
    "                '재생목록' : 'float',\n",
    "                '채널' : 'float', \n",
    "                '설명' : 'float', \n",
    "                '업로드 기간' : 'float',\n",
    "                '동영상 개수' : 'float', \n",
    "                '평균 조회수' : 'float', \n",
    "                '조회수' : 'float',\n",
    "                '구독자' : 'float'})"
   ]
  },
  {
   "cell_type": "markdown",
   "id": "47678615",
   "metadata": {},
   "source": [
    "## 1.4. 재생목록 사용 데이터 추가\n",
    "- 0 : 미사용\n",
    "- 1 : 사용"
   ]
  },
  {
   "cell_type": "code",
   "execution_count": 6,
   "id": "0b84b6ca",
   "metadata": {
    "ExecuteTime": {
     "end_time": "2023-04-05T05:06:42.118798Z",
     "start_time": "2023-04-05T05:06:42.114466Z"
    }
   },
   "outputs": [],
   "source": [
    "df['재생목록 사용'] = df['재생목록'].apply(lambda x : 1 if x > 0\n",
    "                                            else 0 if x == 0\n",
    "                                            else None)"
   ]
  },
  {
   "cell_type": "markdown",
   "id": "09786d67",
   "metadata": {},
   "source": [
    "## 1.5. 활용능력 데이터 추가\n",
    "- 활용능력 : 링크 + 채널 + 정보 + 재생목록 사용"
   ]
  },
  {
   "cell_type": "code",
   "execution_count": 7,
   "id": "e8e22ed1",
   "metadata": {
    "ExecuteTime": {
     "end_time": "2023-04-05T05:06:42.126614Z",
     "start_time": "2023-04-05T05:06:42.120939Z"
    },
    "scrolled": true
   },
   "outputs": [],
   "source": [
    "df['활용능력'] = df['링크'] + df['채널'] + df['설명'] + df['재생목록 사용']"
   ]
  },
  {
   "cell_type": "markdown",
   "id": "f7618913",
   "metadata": {},
   "source": [
    "## 1.6. 전체 평균 조회수 데이터 추가\n",
    "- 전체 평균 조회수 : 조회수 / 동영상 개수"
   ]
  },
  {
   "cell_type": "code",
   "execution_count": 8,
   "id": "dc2e296c",
   "metadata": {
    "ExecuteTime": {
     "end_time": "2023-04-05T05:06:42.136358Z",
     "start_time": "2023-04-05T05:06:42.130992Z"
    }
   },
   "outputs": [],
   "source": [
    "df['전체 평균 조회수'] = round(df['조회수']/df['동영상 개수'], 0)\n",
    "df['전체 평균 조회수'] = df['전체 평균 조회수'].apply(lambda x : 0 if x == float('inf') else x)"
   ]
  },
  {
   "cell_type": "markdown",
   "id": "28f6048e",
   "metadata": {},
   "source": [
    "## 1.7. 활성화 데이터 추가\n",
    "- 활성화 기준 : 90일 이내에 동영상 업로드\n",
    "- 0 : 비활성화\n",
    "- 1 : 활성화"
   ]
  },
  {
   "cell_type": "code",
   "execution_count": 9,
   "id": "d5271245",
   "metadata": {
    "ExecuteTime": {
     "end_time": "2023-04-05T05:06:42.144431Z",
     "start_time": "2023-04-05T05:06:42.139635Z"
    }
   },
   "outputs": [],
   "source": [
    "df['활성화'] = None\n",
    "df['활성화'] = df['업로드 기간'].apply(lambda x : 1 if x <= 90\n",
    "                                      else 0 if x > 90\n",
    "                                      else None)"
   ]
  },
  {
   "cell_type": "code",
   "execution_count": 10,
   "id": "00cafa86",
   "metadata": {
    "ExecuteTime": {
     "end_time": "2023-04-05T05:06:42.172190Z",
     "start_time": "2023-04-05T05:06:42.146705Z"
    }
   },
   "outputs": [
    {
     "data": {
      "text/html": [
       "<div>\n",
       "<style scoped>\n",
       "    .dataframe tbody tr th:only-of-type {\n",
       "        vertical-align: middle;\n",
       "    }\n",
       "\n",
       "    .dataframe tbody tr th {\n",
       "        vertical-align: top;\n",
       "    }\n",
       "\n",
       "    .dataframe thead th {\n",
       "        text-align: right;\n",
       "    }\n",
       "</style>\n",
       "<table border=\"1\" class=\"dataframe\">\n",
       "  <thead>\n",
       "    <tr style=\"text-align: right;\">\n",
       "      <th></th>\n",
       "      <th>기관분류</th>\n",
       "      <th>기관명</th>\n",
       "      <th>접근성</th>\n",
       "      <th>링크</th>\n",
       "      <th>재생목록</th>\n",
       "      <th>채널</th>\n",
       "      <th>설명</th>\n",
       "      <th>가입일</th>\n",
       "      <th>최근 업로드</th>\n",
       "      <th>기준</th>\n",
       "      <th>업로드 기간</th>\n",
       "      <th>동영상 개수</th>\n",
       "      <th>평균 조회수</th>\n",
       "      <th>조회수</th>\n",
       "      <th>구독자</th>\n",
       "      <th>가입연도</th>\n",
       "      <th>재생목록 사용</th>\n",
       "      <th>활용능력</th>\n",
       "      <th>전체 평균 조회수</th>\n",
       "      <th>활성화</th>\n",
       "    </tr>\n",
       "  </thead>\n",
       "  <tbody>\n",
       "    <tr>\n",
       "      <th>0</th>\n",
       "      <td>미술관</td>\n",
       "      <td>국립현대미술관</td>\n",
       "      <td>2</td>\n",
       "      <td>1.0</td>\n",
       "      <td>16.0</td>\n",
       "      <td>0.0</td>\n",
       "      <td>1.0</td>\n",
       "      <td>2013-05-14</td>\n",
       "      <td>2021-07-10</td>\n",
       "      <td>2021-07-14</td>\n",
       "      <td>4.0</td>\n",
       "      <td>883.0</td>\n",
       "      <td>11900.0</td>\n",
       "      <td>6538000.0</td>\n",
       "      <td>19700.0</td>\n",
       "      <td>2013</td>\n",
       "      <td>1.0</td>\n",
       "      <td>3.0</td>\n",
       "      <td>7404.0</td>\n",
       "      <td>1.0</td>\n",
       "    </tr>\n",
       "    <tr>\n",
       "      <th>1</th>\n",
       "      <td>미술관</td>\n",
       "      <td>서울시립미술관</td>\n",
       "      <td>2</td>\n",
       "      <td>1.0</td>\n",
       "      <td>12.0</td>\n",
       "      <td>2.0</td>\n",
       "      <td>1.0</td>\n",
       "      <td>2012-07-02</td>\n",
       "      <td>2021-06-30</td>\n",
       "      <td>2021-07-14</td>\n",
       "      <td>14.0</td>\n",
       "      <td>390.0</td>\n",
       "      <td>383.0</td>\n",
       "      <td>252700.0</td>\n",
       "      <td>3500.0</td>\n",
       "      <td>2012</td>\n",
       "      <td>1.0</td>\n",
       "      <td>5.0</td>\n",
       "      <td>648.0</td>\n",
       "      <td>1.0</td>\n",
       "    </tr>\n",
       "    <tr>\n",
       "      <th>2</th>\n",
       "      <td>미술관</td>\n",
       "      <td>부산시립미술관</td>\n",
       "      <td>2</td>\n",
       "      <td>1.0</td>\n",
       "      <td>9.0</td>\n",
       "      <td>0.0</td>\n",
       "      <td>1.0</td>\n",
       "      <td>2015-07-24</td>\n",
       "      <td>2021-07-09</td>\n",
       "      <td>2021-07-14</td>\n",
       "      <td>5.0</td>\n",
       "      <td>168.0</td>\n",
       "      <td>167.0</td>\n",
       "      <td>76600.0</td>\n",
       "      <td>NaN</td>\n",
       "      <td>2015</td>\n",
       "      <td>1.0</td>\n",
       "      <td>3.0</td>\n",
       "      <td>456.0</td>\n",
       "      <td>1.0</td>\n",
       "    </tr>\n",
       "    <tr>\n",
       "      <th>3</th>\n",
       "      <td>미술관</td>\n",
       "      <td>부산현대미술관</td>\n",
       "      <td>2</td>\n",
       "      <td>0.0</td>\n",
       "      <td>6.0</td>\n",
       "      <td>1.0</td>\n",
       "      <td>1.0</td>\n",
       "      <td>2018-07-19</td>\n",
       "      <td>2021-05-07</td>\n",
       "      <td>2021-07-14</td>\n",
       "      <td>68.0</td>\n",
       "      <td>97.0</td>\n",
       "      <td>453.0</td>\n",
       "      <td>33300.0</td>\n",
       "      <td>457.0</td>\n",
       "      <td>2018</td>\n",
       "      <td>1.0</td>\n",
       "      <td>3.0</td>\n",
       "      <td>343.0</td>\n",
       "      <td>1.0</td>\n",
       "    </tr>\n",
       "    <tr>\n",
       "      <th>4</th>\n",
       "      <td>미술관</td>\n",
       "      <td>대구문화예술회관 미술관</td>\n",
       "      <td>2</td>\n",
       "      <td>0.0</td>\n",
       "      <td>0.0</td>\n",
       "      <td>0.0</td>\n",
       "      <td>1.0</td>\n",
       "      <td>2020-07-14</td>\n",
       "      <td>2021-05-14</td>\n",
       "      <td>2021-07-14</td>\n",
       "      <td>61.0</td>\n",
       "      <td>26.0</td>\n",
       "      <td>44.0</td>\n",
       "      <td>1168.0</td>\n",
       "      <td>13.0</td>\n",
       "      <td>2020</td>\n",
       "      <td>0.0</td>\n",
       "      <td>1.0</td>\n",
       "      <td>45.0</td>\n",
       "      <td>1.0</td>\n",
       "    </tr>\n",
       "  </tbody>\n",
       "</table>\n",
       "</div>"
      ],
      "text/plain": [
       "  기관분류           기관명  접근성   링크  재생목록   채널   설명         가입일      최근 업로드  \\\n",
       "0  미술관       국립현대미술관    2  1.0  16.0  0.0  1.0  2013-05-14  2021-07-10   \n",
       "1  미술관       서울시립미술관    2  1.0  12.0  2.0  1.0  2012-07-02  2021-06-30   \n",
       "2  미술관       부산시립미술관    2  1.0   9.0  0.0  1.0  2015-07-24  2021-07-09   \n",
       "3  미술관       부산현대미술관    2  0.0   6.0  1.0  1.0  2018-07-19  2021-05-07   \n",
       "4  미술관  대구문화예술회관 미술관    2  0.0   0.0  0.0  1.0  2020-07-14  2021-05-14   \n",
       "\n",
       "           기준  업로드 기간  동영상 개수   평균 조회수        조회수      구독자  가입연도  재생목록 사용  \\\n",
       "0  2021-07-14     4.0   883.0  11900.0  6538000.0  19700.0  2013      1.0   \n",
       "1  2021-07-14    14.0   390.0    383.0   252700.0   3500.0  2012      1.0   \n",
       "2  2021-07-14     5.0   168.0    167.0    76600.0      NaN  2015      1.0   \n",
       "3  2021-07-14    68.0    97.0    453.0    33300.0    457.0  2018      1.0   \n",
       "4  2021-07-14    61.0    26.0     44.0     1168.0     13.0  2020      0.0   \n",
       "\n",
       "   활용능력  전체 평균 조회수  활성화  \n",
       "0   3.0     7404.0  1.0  \n",
       "1   5.0      648.0  1.0  \n",
       "2   3.0      456.0  1.0  \n",
       "3   3.0      343.0  1.0  \n",
       "4   1.0       45.0  1.0  "
      ]
     },
     "execution_count": 10,
     "metadata": {},
     "output_type": "execute_result"
    }
   ],
   "source": [
    "df.head()"
   ]
  },
  {
   "cell_type": "markdown",
   "id": "6aa5ac8a",
   "metadata": {},
   "source": [
    "# 2. 데이터 분석"
   ]
  },
  {
   "cell_type": "markdown",
   "id": "d29b988b",
   "metadata": {},
   "source": [
    "## 2.1. 유튜브 가입 시기 분석"
   ]
  },
  {
   "cell_type": "code",
   "execution_count": 11,
   "id": "b893099d",
   "metadata": {
    "ExecuteTime": {
     "end_time": "2023-04-05T05:06:42.364021Z",
     "start_time": "2023-04-05T05:06:42.174526Z"
    }
   },
   "outputs": [
    {
     "data": {
      "image/png": "[encoded data removed]",
      "text/plain": [
       "<Figure size 864x576 with 1 Axes>"
      ]
     },
     "metadata": {
      "needs_background": "light"
     },
     "output_type": "display_data"
    }
   ],
   "source": [
    "label = np.arange(2009, 2022).astype(np.str_)\n",
    "\n",
    "plt.subplots(figsize = (12, 8))\n",
    "sns.countplot(x = df['가입연도'], order = label)\n",
    "\n",
    "plt.title('유튜브 가입 시기', fontsize = 25)\n",
    "plt.xlabel('연도', fontsize = 15)\n",
    "plt.ylabel('개수', fontsize = 15)\n",
    "\n",
    "plt.show()"
   ]
  },
  {
   "cell_type": "markdown",
   "id": "b633a901",
   "metadata": {},
   "source": [
    "- 유튜브 가입은 꾸준히 증가하는 추세였으나, 2020년에 유튜브 가입이 급증\n",
    "- 코로나19로 인하여 대면활동이 불가능해지자 유튜브 채널 개설이 급격히 증가한 것으로 예측"
   ]
  },
  {
   "cell_type": "markdown",
   "id": "1bdd033f",
   "metadata": {},
   "source": [
    "### <기관 분류에 따른 유튜브 가입 시기 분석>"
   ]
  },
  {
   "cell_type": "code",
   "execution_count": 12,
   "id": "a89ba4e6",
   "metadata": {
    "ExecuteTime": {
     "end_time": "2023-04-05T05:06:43.363078Z",
     "start_time": "2023-04-05T05:06:42.365928Z"
    },
    "scrolled": false
   },
   "outputs": [
    {
     "data": {
      "image/png": "[encoded data removed]",
      "text/plain": [
       "<Figure size 1440x864 with 6 Axes>"
      ]
     },
     "metadata": {
      "needs_background": "light"
     },
     "output_type": "display_data"
    }
   ],
   "source": [
    "types = df['기관분류'].unique()\n",
    "\n",
    "plt.subplots(2, 3, figsize = (20, 12))\n",
    "\n",
    "for i, tp in zip(range(1, 7), types):\n",
    "    plt.subplot(2, 3, i)\n",
    "    sns.countplot(x = df['가입연도'][df['기관분류'] == tp], order = label)\n",
    "    \n",
    "    plt.title(f'{tp}의 유튜브 가입 시기', fontsize = 15)\n",
    "    plt.xlabel('연도', fontsize = 12)\n",
    "    plt.ylabel('개수', fontsize = 12)\n",
    "    \n",
    "plt.show()"
   ]
  },
  {
   "cell_type": "markdown",
   "id": "2ec471fb",
   "metadata": {},
   "source": [
    "- 미술관/박물관 : 2012년에 처음으로 유튜브 채널이 개설됨. 다른 기관에 비해 늦게 시작하였으며,  이후 뚜렷한 증가세도 보이지 않는 등 채널 개설에 보수적인 모습. 2020년 코로나로 인해 개설이 급증함.\n",
    "- 중앙산하기관 : 다른 기관들에 비해 빠르게 유튜브를 개설하여 코로나의 영향을 거의 받지 않음.\n",
    "- 지역문화재단 : 코로나 이전부터 꾸준한 증가세를 보였지만, 역시 2020년에 크게 증가하는 모습\n",
    "- 공연장 : 문화재단에 비해서는 약하지만 코로나 이전부터 증가세를 보임. 하지만 2020년에 급증하는 모습"
   ]
  },
  {
   "cell_type": "markdown",
   "id": "92d833e6",
   "metadata": {},
   "source": [
    "## 2.2. 유튜브 채널 접근성 분석"
   ]
  },
  {
   "cell_type": "code",
   "execution_count": 13,
   "id": "c186312a",
   "metadata": {
    "ExecuteTime": {
     "end_time": "2023-04-05T05:06:43.453687Z",
     "start_time": "2023-04-05T05:06:43.364938Z"
    }
   },
   "outputs": [
    {
     "data": {
      "image/png": "[encoded data removed]",
      "text/plain": [
       "<Figure size 504x504 with 1 Axes>"
      ]
     },
     "metadata": {},
     "output_type": "display_data"
    }
   ],
   "source": [
    "x = list(df['접근성'].value_counts().values)\n",
    "labels = ['높음', '낮음', '없음']\n",
    "colors = ['#E39361', '#49AF79', '#8DAEE7']\n",
    "\n",
    "fig, ax = plt.subplots(figsize = (7, 7))\n",
    "wedges, texts, autotexts = ax.pie(x, labels = labels,\n",
    "                                 autopct= '%.1f%%', startangle = 90,\n",
    "                                 counterclock = False, colors = colors)\n",
    "\n",
    "ax.set_title('전체 기관의 유튜브 채널 접근성', fontdict = {'fontsize' : 20})\n",
    "\n",
    "for t in texts :\n",
    "    t.set_fontsize(17)\n",
    "    \n",
    "for a in autotexts :\n",
    "    a.set_fontsize(15)\n",
    "    \n",
    "plt.show()"
   ]
  },
  {
   "cell_type": "markdown",
   "id": "7d0f814a",
   "metadata": {},
   "source": [
    "- 전체 기관 중 74.45%가 유튜브 채널을 보유"
   ]
  },
  {
   "cell_type": "markdown",
   "id": "410b256e",
   "metadata": {},
   "source": [
    "### <기관 분류에 따른 유튜브 채널 접근성 분석>"
   ]
  },
  {
   "cell_type": "code",
   "execution_count": 14,
   "id": "dcbd7f37",
   "metadata": {
    "ExecuteTime": {
     "end_time": "2023-04-05T05:06:43.963687Z",
     "start_time": "2023-04-05T05:06:43.455706Z"
    },
    "scrolled": false
   },
   "outputs": [
    {
     "data": {
      "image/png": "[encoded data removed]",
      "text/plain": [
       "<Figure size 1440x864 with 6 Axes>"
      ]
     },
     "metadata": {
      "needs_background": "light"
     },
     "output_type": "display_data"
    }
   ],
   "source": [
    "types = df['기관분류'].unique()\n",
    "\n",
    "plt.subplots(2, 3, figsize = (20, 12))\n",
    "\n",
    "for i, tp in zip(range(1, 7), types):\n",
    "    cond = df['기관분류'] == tp\n",
    "    x = df['접근성'][cond].value_counts().sort_index(ascending = False)\n",
    "    labels = ['높음', '낮음', '없음']\n",
    "    colors = ['#E39361', '#49AF79', '#8DAEE7']\n",
    "    \n",
    "    plt.subplot(2, 3, i)\n",
    "    plt.pie(x, labels = labels,\n",
    "           autopct = '%.1f%%',\n",
    "           startangle = 90,\n",
    "           counterclock = False,\n",
    "           colors = colors)\n",
    "    \n",
    "    plt.title(f'{tp}의 유튜브 채널 접근성')\n",
    "\n",
    "plt.show()"
   ]
  },
  {
   "cell_type": "markdown",
   "id": "1653750f",
   "metadata": {},
   "source": [
    "- 박물관 : 2020년에 유튜브 개설이 급증하였음에도 불구하고, 유튜브 채널을 운영하지 않는 기관이 40%로 유튜브 운영에 여전히 소극적인 모습. 또한 접근성 높음의 비율이 가장 낮음.\n",
    "- 중앙산하기관/지역문화재단 : 다른 기관들에 비해 유튜브 운영에 적극적. 다만 접근성 높음 대비 접근성 낮음의 비율이 다른 기관들에 비해 높아 접근성에 대한 노력이 부족한 모습."
   ]
  },
  {
   "cell_type": "markdown",
   "id": "7f601b82",
   "metadata": {},
   "source": [
    "## 2.3. 구독자 분석"
   ]
  },
  {
   "cell_type": "markdown",
   "id": "03c1b949",
   "metadata": {},
   "source": [
    "### <기관 분류에 따른 구독자 분석>"
   ]
  },
  {
   "cell_type": "code",
   "execution_count": 15,
   "id": "cb840b2c",
   "metadata": {
    "ExecuteTime": {
     "end_time": "2023-04-05T05:06:44.309656Z",
     "start_time": "2023-04-05T05:06:43.965793Z"
    }
   },
   "outputs": [
    {
     "data": {
      "image/png": "[encoded data removed]",
      "text/plain": [
       "<Figure size 720x432 with 1 Axes>"
      ]
     },
     "metadata": {
      "needs_background": "light"
     },
     "output_type": "display_data"
    }
   ],
   "source": [
    "plt.subplots(figsize = (10, 6))\n",
    "sns.swarmplot(x = '구독자', y = '기관분류', data = df)\n",
    "\n",
    "plt.title('기관 분류에 따른 구독자 수', fontsize = 20)\n",
    "plt.xlabel('구독자 수', fontsize = 15)\n",
    "plt.ylabel('')\n",
    "plt.yticks(fontsize = 15)\n",
    "\n",
    "plt.show()"
   ]
  },
  {
   "cell_type": "markdown",
   "id": "f5412292",
   "metadata": {},
   "source": [
    "### <span style = 'color:red'> ※ 구독자 수가 10만이 넘는 기관이 한 군데 : 분석 대상에서 제외 </span>"
   ]
  },
  {
   "cell_type": "code",
   "execution_count": 16,
   "id": "9074aeda",
   "metadata": {
    "ExecuteTime": {
     "end_time": "2023-04-05T05:06:44.315935Z",
     "start_time": "2023-04-05T05:06:44.311456Z"
    },
    "scrolled": true
   },
   "outputs": [],
   "source": [
    "df_total = df.copy()\n",
    "df = df.drop(133, axis = 0)"
   ]
  },
  {
   "cell_type": "code",
   "execution_count": 17,
   "id": "c213ec40",
   "metadata": {
    "ExecuteTime": {
     "end_time": "2023-04-05T05:06:44.582645Z",
     "start_time": "2023-04-05T05:06:44.318162Z"
    }
   },
   "outputs": [
    {
     "data": {
      "image/png": "[encoded data removed]",
      "text/plain": [
       "<Figure size 720x432 with 1 Axes>"
      ]
     },
     "metadata": {
      "needs_background": "light"
     },
     "output_type": "display_data"
    }
   ],
   "source": [
    "plt.subplots(figsize = (10, 6))\n",
    "sns.swarmplot(x = '구독자', y = '기관분류', data = df)\n",
    "\n",
    "plt.title('기관 분류에 따른 구독자 수', fontsize = 20)\n",
    "plt.xlabel('구독자 수', fontsize = 15)\n",
    "plt.ylabel('')\n",
    "plt.yticks(fontsize = 15)\n",
    "\n",
    "plt.show()"
   ]
  },
  {
   "cell_type": "markdown",
   "id": "2063bdda",
   "metadata": {},
   "source": [
    "- 구독자 1만을 넘기지 못하는 채널이 많음\n",
    "- 중앙산하기관 : 운영하는 채널이 구독자가 준수한 편\n",
    "- 지역문화재단 : 유튜브 채널을 운영하는 비율이 가장 높지만, 최고 구독자도 다른 기관에 비해 낮고 대체로 구독자가 적어 운영 대비 성과가 다소 떨어지는 모습"
   ]
  },
  {
   "cell_type": "markdown",
   "id": "23713649",
   "metadata": {},
   "source": [
    "## 2.4. 동영상 개수와 구독자의 회귀 분석"
   ]
  },
  {
   "cell_type": "code",
   "execution_count": 18,
   "id": "0b8f679f",
   "metadata": {
    "ExecuteTime": {
     "end_time": "2023-04-05T05:06:44.895141Z",
     "start_time": "2023-04-05T05:06:44.584751Z"
    }
   },
   "outputs": [
    {
     "data": {
      "image/png": "[encoded data removed]",
      "text/plain": [
       "<Figure size 360x360 with 1 Axes>"
      ]
     },
     "metadata": {
      "needs_background": "light"
     },
     "output_type": "display_data"
    }
   ],
   "source": [
    "sns.lmplot('동영상 개수', '구독자', data=df)\n",
    "plt.title('동영상 개수와 구독자의 관계', fontsize = 20)\n",
    "plt.xlabel('동영상 개수', fontsize = 15)\n",
    "plt.ylabel('구독자', fontsize = 15)\n",
    "\n",
    "plt.show()"
   ]
  },
  {
   "cell_type": "code",
   "execution_count": 19,
   "id": "fe3bcef0",
   "metadata": {
    "ExecuteTime": {
     "end_time": "2023-04-05T05:06:44.901651Z",
     "start_time": "2023-04-05T05:06:44.897100Z"
    }
   },
   "outputs": [
    {
     "name": "stdout",
     "output_type": "stream",
     "text": [
      "동영상 개수와 구독자의 상관계수 :  0.7\n"
     ]
    }
   ],
   "source": [
    "cor = round(df.corr().loc['구독자', '동영상 개수'], 1)\n",
    "print('동영상 개수와 구독자의 상관계수 : ', cor)"
   ]
  },
  {
   "cell_type": "markdown",
   "id": "e259bd36",
   "metadata": {},
   "source": [
    "- 동영상 개수와 구독자의 상관계수가 0.7로 강한 양의 상관관계를 보임\n",
    "- 그래프를 통해서도 선형적 관계가 존재하고 있음을 확인 가능\n",
    "- 동영상의 개수가 많을수록 구독자도 많다고 말할 수 있음"
   ]
  },
  {
   "cell_type": "markdown",
   "id": "dc5fb54b",
   "metadata": {},
   "source": [
    "## 2.5. 활용능력과 구독자의 관계 분석"
   ]
  },
  {
   "cell_type": "code",
   "execution_count": 20,
   "id": "7724fd70",
   "metadata": {
    "ExecuteTime": {
     "end_time": "2023-04-05T05:06:45.148420Z",
     "start_time": "2023-04-05T05:06:44.903532Z"
    }
   },
   "outputs": [
    {
     "data": {
      "image/png": "[encoded data removed]",
      "text/plain": [
       "<Figure size 720x504 with 1 Axes>"
      ]
     },
     "metadata": {
      "needs_background": "light"
     },
     "output_type": "display_data"
    }
   ],
   "source": [
    "plt.subplots(figsize = (10, 7))\n",
    "\n",
    "sns.swarmplot(x = '활용능력', y = '구독자', data = df)\n",
    "\n",
    "plt.title('활용능력과 구독자의 관계', fontsize = 20)\n",
    "plt.xlabel('활용능력', fontsize = 15)\n",
    "plt.ylabel('구독자', fontsize = 15)\n",
    "\n",
    "plt.show()"
   ]
  },
  {
   "cell_type": "markdown",
   "id": "ebaeb50a",
   "metadata": {},
   "source": [
    "- 활용능력과 구독자 사이에 뚜렷한 상관 관계는 존재하지 않지만, 구독자가 많으면 활용능력도 높다는 것을 일부 확인할 수 있음"
   ]
  },
  {
   "cell_type": "markdown",
   "id": "9814aec4",
   "metadata": {},
   "source": [
    "## 2.6. 기관별 평균 활용 능력"
   ]
  },
  {
   "cell_type": "code",
   "execution_count": 21,
   "id": "3aab17a7",
   "metadata": {
    "ExecuteTime": {
     "end_time": "2023-04-05T05:06:45.276196Z",
     "start_time": "2023-04-05T05:06:45.150693Z"
    }
   },
   "outputs": [
    {
     "data": {
      "image/png": "[encoded data removed]",
      "text/plain": [
       "<Figure size 720x504 with 1 Axes>"
      ]
     },
     "metadata": {
      "needs_background": "light"
     },
     "output_type": "display_data"
    }
   ],
   "source": [
    "df.groupby('기관분류').mean()[['활용능력']].plot(kind = 'bar', figsize = (10, 7), legend = False)\n",
    "plt.title('기관별 평균 활용능력', fontsize = 20)\n",
    "plt.xlabel('기관 분류', fontsize = 15)\n",
    "plt.ylabel('활용능력', fontsize = 15)\n",
    "plt.xticks(fontsize = 15, rotation = 30)\n",
    "plt.yticks(range(6))\n",
    "plt.show()"
   ]
  },
  {
   "cell_type": "markdown",
   "id": "710e341b",
   "metadata": {},
   "source": [
    "- 성과가 가장 좋은 중앙산하기관의 평균 활용능력이 가장 우수\n",
    "- 박물관과 공연장의 평균 활용능력이 가장 낮음"
   ]
  },
  {
   "cell_type": "markdown",
   "id": "7fd999cd",
   "metadata": {},
   "source": [
    "## 2.7. 기관별 유튜브 비활성화 비율"
   ]
  },
  {
   "cell_type": "code",
   "execution_count": 22,
   "id": "189a29de",
   "metadata": {
    "ExecuteTime": {
     "end_time": "2023-04-05T05:06:45.483882Z",
     "start_time": "2023-04-05T05:06:45.278325Z"
    },
    "scrolled": false
   },
   "outputs": [
    {
     "data": {
      "image/png": "[encoded data removed]",
      "text/plain": [
       "<Figure size 720x432 with 1 Axes>"
      ]
     },
     "metadata": {
      "needs_background": "light"
     },
     "output_type": "display_data"
    }
   ],
   "source": [
    "types = df['기관분류'].unique()\n",
    "pcts = []\n",
    "for tp in types:\n",
    "    son = len(df[(df['기관분류'] == tp)&(df['활성화'] == 0)])\n",
    "    mom = len(df[(df['기관분류'] == tp)&(df['접근성'] != 0)])\n",
    "    pct = round(son/mom, 2)\n",
    "    pcts.append(pct)\n",
    "    \n",
    "plt.subplots(figsize = (10, 6))\n",
    "\n",
    "sns.barplot(types, pcts)\n",
    "\n",
    "plt.title('기관별 유튜브 비활성화 비율', fontsize = 20)\n",
    "plt.xticks(fontsize = 15)\n",
    "\n",
    "plt.show()"
   ]
  },
  {
   "cell_type": "code",
   "execution_count": 23,
   "id": "4feee38a",
   "metadata": {
    "ExecuteTime": {
     "end_time": "2023-04-05T05:06:45.490191Z",
     "start_time": "2023-04-05T05:06:45.486014Z"
    }
   },
   "outputs": [
    {
     "data": {
      "text/plain": [
       "[0.05, 0.23, 0.1, 0.15, 0.28]"
      ]
     },
     "execution_count": 23,
     "metadata": {},
     "output_type": "execute_result"
    }
   ],
   "source": [
    "pcts"
   ]
  },
  {
   "cell_type": "markdown",
   "id": "9e983039",
   "metadata": {},
   "source": [
    "- 비활성화 비율 : 비활성화 채널의 개수 / 유튜브 채널의 개수\n",
    "- 공연장과 민간기관의 유튜브 비활성화 비율이 가장 높음"
   ]
  },
  {
   "cell_type": "markdown",
   "id": "02a8890b",
   "metadata": {},
   "source": [
    "## 2.8. 기관별 평균 조회수"
   ]
  },
  {
   "cell_type": "code",
   "execution_count": 24,
   "id": "3274eb1b",
   "metadata": {
    "ExecuteTime": {
     "end_time": "2023-04-05T05:06:45.648602Z",
     "start_time": "2023-04-05T05:06:45.492245Z"
    }
   },
   "outputs": [
    {
     "data": {
      "image/png": "[encoded data removed]",
      "text/plain": [
       "<Figure size 720x504 with 1 Axes>"
      ]
     },
     "metadata": {
      "needs_background": "light"
     },
     "output_type": "display_data"
    }
   ],
   "source": [
    "df.groupby('기관분류').mean()[['평균 조회수', '전체 평균 조회수']].plot(kind = 'bar', figsize = (10, 7))\n",
    "plt.title('기관별 평균 조회수', fontsize = 20)\n",
    "plt.xlabel('기관 분류', fontsize = 15)\n",
    "plt.ylabel('조회수', fontsize = 15)\n",
    "plt.legend(fontsize = 13)\n",
    "plt.xticks(fontsize = 15, rotation = 30)\n",
    "plt.show()"
   ]
  },
  {
   "cell_type": "markdown",
   "id": "7ed4491a",
   "metadata": {},
   "source": [
    "- 전체 평균 조회수는 채널 전체 동영상 조회수를 반영하기 때문에, 영상 업로드 기간이 길수록 조회수가 높을 수 밖에 없음. 그에 반해 평균 조회수는 최근 30개 동영상의 조회수 평균이기 때문에 동영상 게시 기간에 비교적 자유로움\n",
    "- 중앙산하기관의 경우 다른 기관들에 비해 빠르게 유튜브를 개설했으며, 구독자수도 많기 때문에 전체 평균 조회수가 압도적으로 높은 모습. 평균 조회수도 다른 기관에 비해 높은데 이는 구독자가 높기에 자연스러운 결과\n",
    "- 지역문화재단은 다른 기관들에 비해 조회수 둘 다 현저히 낮은 모습"
   ]
  },
  {
   "cell_type": "markdown",
   "id": "b8d1e0b1",
   "metadata": {},
   "source": [
    "# 3. 정량적 분석 자료"
   ]
  },
  {
   "cell_type": "markdown",
   "id": "716364d6",
   "metadata": {},
   "source": [
    "## 3.1. 기관 분류별 최고 구독자"
   ]
  },
  {
   "cell_type": "code",
   "execution_count": 25,
   "id": "1e4fd1c9",
   "metadata": {
    "ExecuteTime": {
     "end_time": "2023-04-05T05:06:45.697328Z",
     "start_time": "2023-04-05T05:06:45.650527Z"
    }
   },
   "outputs": [
    {
     "data": {
      "text/html": [
       "<div>\n",
       "<style scoped>\n",
       "    .dataframe tbody tr th:only-of-type {\n",
       "        vertical-align: middle;\n",
       "    }\n",
       "\n",
       "    .dataframe tbody tr th {\n",
       "        vertical-align: top;\n",
       "    }\n",
       "\n",
       "    .dataframe thead th {\n",
       "        text-align: right;\n",
       "    }\n",
       "</style>\n",
       "<table border=\"1\" class=\"dataframe\">\n",
       "  <thead>\n",
       "    <tr style=\"text-align: right;\">\n",
       "      <th></th>\n",
       "      <th>기관분류</th>\n",
       "      <th>기관명</th>\n",
       "      <th>접근성</th>\n",
       "      <th>링크</th>\n",
       "      <th>재생목록</th>\n",
       "      <th>채널</th>\n",
       "      <th>설명</th>\n",
       "      <th>가입일</th>\n",
       "      <th>최근 업로드</th>\n",
       "      <th>기준</th>\n",
       "      <th>업로드 기간</th>\n",
       "      <th>동영상 개수</th>\n",
       "      <th>평균 조회수</th>\n",
       "      <th>조회수</th>\n",
       "      <th>구독자</th>\n",
       "      <th>가입연도</th>\n",
       "      <th>재생목록 사용</th>\n",
       "      <th>활용능력</th>\n",
       "      <th>전체 평균 조회수</th>\n",
       "      <th>활성화</th>\n",
       "    </tr>\n",
       "  </thead>\n",
       "  <tbody>\n",
       "    <tr>\n",
       "      <th>0</th>\n",
       "      <td>미술관</td>\n",
       "      <td>국립현대미술관</td>\n",
       "      <td>2</td>\n",
       "      <td>1.0</td>\n",
       "      <td>16.0</td>\n",
       "      <td>0.0</td>\n",
       "      <td>1.0</td>\n",
       "      <td>2013-05-14</td>\n",
       "      <td>2021-07-10</td>\n",
       "      <td>2021-07-14</td>\n",
       "      <td>4.0</td>\n",
       "      <td>883.0</td>\n",
       "      <td>11900.0</td>\n",
       "      <td>6538000.0</td>\n",
       "      <td>19700.0</td>\n",
       "      <td>2013</td>\n",
       "      <td>1.0</td>\n",
       "      <td>3.0</td>\n",
       "      <td>7404.0</td>\n",
       "      <td>1.0</td>\n",
       "    </tr>\n",
       "    <tr>\n",
       "      <th>36</th>\n",
       "      <td>박물관</td>\n",
       "      <td>국립고궁박물관</td>\n",
       "      <td>2</td>\n",
       "      <td>1.0</td>\n",
       "      <td>27.0</td>\n",
       "      <td>1.0</td>\n",
       "      <td>1.0</td>\n",
       "      <td>2015-03-09</td>\n",
       "      <td>2021-06-17</td>\n",
       "      <td>2021-07-14</td>\n",
       "      <td>27.0</td>\n",
       "      <td>216.0</td>\n",
       "      <td>759.0</td>\n",
       "      <td>1790200.0</td>\n",
       "      <td>9650.0</td>\n",
       "      <td>2015</td>\n",
       "      <td>1.0</td>\n",
       "      <td>4.0</td>\n",
       "      <td>8288.0</td>\n",
       "      <td>1.0</td>\n",
       "    </tr>\n",
       "    <tr>\n",
       "      <th>133</th>\n",
       "      <td>중앙산하기관</td>\n",
       "      <td>해외문화홍보원</td>\n",
       "      <td>2</td>\n",
       "      <td>1.0</td>\n",
       "      <td>47.0</td>\n",
       "      <td>2.0</td>\n",
       "      <td>1.0</td>\n",
       "      <td>2009-10-27</td>\n",
       "      <td>2021-07-15</td>\n",
       "      <td>2021-07-15</td>\n",
       "      <td>0.0</td>\n",
       "      <td>1483.0</td>\n",
       "      <td>6508.0</td>\n",
       "      <td>108000000.0</td>\n",
       "      <td>149000.0</td>\n",
       "      <td>2009</td>\n",
       "      <td>1.0</td>\n",
       "      <td>5.0</td>\n",
       "      <td>72825.0</td>\n",
       "      <td>1.0</td>\n",
       "    </tr>\n",
       "    <tr>\n",
       "      <th>142</th>\n",
       "      <td>지역문화재단</td>\n",
       "      <td>경기문화재단</td>\n",
       "      <td>2</td>\n",
       "      <td>1.0</td>\n",
       "      <td>41.0</td>\n",
       "      <td>1.0</td>\n",
       "      <td>1.0</td>\n",
       "      <td>2011-09-15</td>\n",
       "      <td>2021-07-12</td>\n",
       "      <td>2021-07-15</td>\n",
       "      <td>3.0</td>\n",
       "      <td>1412.0</td>\n",
       "      <td>193.0</td>\n",
       "      <td>4226800.0</td>\n",
       "      <td>9300.0</td>\n",
       "      <td>2011</td>\n",
       "      <td>1.0</td>\n",
       "      <td>4.0</td>\n",
       "      <td>2993.0</td>\n",
       "      <td>1.0</td>\n",
       "    </tr>\n",
       "    <tr>\n",
       "      <th>252</th>\n",
       "      <td>공연장</td>\n",
       "      <td>국립국악원</td>\n",
       "      <td>2</td>\n",
       "      <td>1.0</td>\n",
       "      <td>59.0</td>\n",
       "      <td>0.0</td>\n",
       "      <td>1.0</td>\n",
       "      <td>2010-07-30</td>\n",
       "      <td>2021-07-14</td>\n",
       "      <td>2021-07-14</td>\n",
       "      <td>0.0</td>\n",
       "      <td>2877.0</td>\n",
       "      <td>6153.0</td>\n",
       "      <td>18409600.0</td>\n",
       "      <td>39600.0</td>\n",
       "      <td>2010</td>\n",
       "      <td>1.0</td>\n",
       "      <td>3.0</td>\n",
       "      <td>6399.0</td>\n",
       "      <td>1.0</td>\n",
       "    </tr>\n",
       "  </tbody>\n",
       "</table>\n",
       "</div>"
      ],
      "text/plain": [
       "       기관분류      기관명 접근성   링크  재생목록   채널   설명         가입일      최근 업로드  \\\n",
       "0       미술관  국립현대미술관   2  1.0  16.0  0.0  1.0  2013-05-14  2021-07-10   \n",
       "36      박물관  국립고궁박물관   2  1.0  27.0  1.0  1.0  2015-03-09  2021-06-17   \n",
       "133  중앙산하기관  해외문화홍보원   2  1.0  47.0  2.0  1.0  2009-10-27  2021-07-15   \n",
       "142  지역문화재단   경기문화재단   2  1.0  41.0  1.0  1.0  2011-09-15  2021-07-12   \n",
       "252     공연장    국립국악원   2  1.0  59.0  0.0  1.0  2010-07-30  2021-07-14   \n",
       "\n",
       "             기준  업로드 기간  동영상 개수   평균 조회수          조회수       구독자  가입연도  \\\n",
       "0    2021-07-14     4.0   883.0  11900.0    6538000.0   19700.0  2013   \n",
       "36   2021-07-14    27.0   216.0    759.0    1790200.0    9650.0  2015   \n",
       "133  2021-07-15     0.0  1483.0   6508.0  108000000.0  149000.0  2009   \n",
       "142  2021-07-15     3.0  1412.0    193.0    4226800.0    9300.0  2011   \n",
       "252  2021-07-14     0.0  2877.0   6153.0   18409600.0   39600.0  2010   \n",
       "\n",
       "     재생목록 사용  활용능력  전체 평균 조회수  활성화  \n",
       "0        1.0   3.0     7404.0  1.0  \n",
       "36       1.0   4.0     8288.0  1.0  \n",
       "133      1.0   5.0    72825.0  1.0  \n",
       "142      1.0   4.0     2993.0  1.0  \n",
       "252      1.0   3.0     6399.0  1.0  "
      ]
     },
     "execution_count": 25,
     "metadata": {},
     "output_type": "execute_result"
    }
   ],
   "source": [
    "types = df['기관분류'].unique()\n",
    "df_max = pd.DataFrame(columns = df.columns)\n",
    "\n",
    "for tp in types :\n",
    "    max_s = max(df_total['구독자'][df_total['기관분류']==tp].dropna())\n",
    "    df_temp = df_total[(df_total['기관분류'] == tp) & (df_total['구독자'] == max_s)]\n",
    "    df_max = pd.concat([df_max, df_temp])\n",
    "    \n",
    "df_max"
   ]
  },
  {
   "cell_type": "markdown",
   "id": "a2bc339c",
   "metadata": {},
   "source": [
    "## 3.2. 구독자 상위 10개 기관"
   ]
  },
  {
   "cell_type": "code",
   "execution_count": 26,
   "id": "9af1cd8a",
   "metadata": {
    "ExecuteTime": {
     "end_time": "2023-04-05T05:06:45.728218Z",
     "start_time": "2023-04-05T05:06:45.704869Z"
    },
    "scrolled": false
   },
   "outputs": [
    {
     "data": {
      "text/html": [
       "<div>\n",
       "<style scoped>\n",
       "    .dataframe tbody tr th:only-of-type {\n",
       "        vertical-align: middle;\n",
       "    }\n",
       "\n",
       "    .dataframe tbody tr th {\n",
       "        vertical-align: top;\n",
       "    }\n",
       "\n",
       "    .dataframe thead th {\n",
       "        text-align: right;\n",
       "    }\n",
       "</style>\n",
       "<table border=\"1\" class=\"dataframe\">\n",
       "  <thead>\n",
       "    <tr style=\"text-align: right;\">\n",
       "      <th></th>\n",
       "      <th>기관분류</th>\n",
       "      <th>기관명</th>\n",
       "      <th>접근성</th>\n",
       "      <th>링크</th>\n",
       "      <th>재생목록</th>\n",
       "      <th>채널</th>\n",
       "      <th>설명</th>\n",
       "      <th>가입일</th>\n",
       "      <th>최근 업로드</th>\n",
       "      <th>기준</th>\n",
       "      <th>업로드 기간</th>\n",
       "      <th>동영상 개수</th>\n",
       "      <th>평균 조회수</th>\n",
       "      <th>조회수</th>\n",
       "      <th>구독자</th>\n",
       "      <th>가입연도</th>\n",
       "      <th>재생목록 사용</th>\n",
       "      <th>활용능력</th>\n",
       "      <th>전체 평균 조회수</th>\n",
       "      <th>활성화</th>\n",
       "    </tr>\n",
       "  </thead>\n",
       "  <tbody>\n",
       "    <tr>\n",
       "      <th>133</th>\n",
       "      <td>중앙산하기관</td>\n",
       "      <td>해외문화홍보원</td>\n",
       "      <td>2</td>\n",
       "      <td>1.0</td>\n",
       "      <td>47.0</td>\n",
       "      <td>2.0</td>\n",
       "      <td>1.0</td>\n",
       "      <td>2009-10-27</td>\n",
       "      <td>2021-07-15</td>\n",
       "      <td>2021-07-15</td>\n",
       "      <td>0.0</td>\n",
       "      <td>1483.0</td>\n",
       "      <td>6508.0</td>\n",
       "      <td>108000000.0</td>\n",
       "      <td>149000.0</td>\n",
       "      <td>2009</td>\n",
       "      <td>1.0</td>\n",
       "      <td>5.0</td>\n",
       "      <td>72825.0</td>\n",
       "      <td>1.0</td>\n",
       "    </tr>\n",
       "    <tr>\n",
       "      <th>132</th>\n",
       "      <td>중앙산하기관</td>\n",
       "      <td>한국콘텐츠진흥원</td>\n",
       "      <td>2</td>\n",
       "      <td>1.0</td>\n",
       "      <td>30.0</td>\n",
       "      <td>1.0</td>\n",
       "      <td>1.0</td>\n",
       "      <td>2010-10-02</td>\n",
       "      <td>2021-07-13</td>\n",
       "      <td>2021-07-15</td>\n",
       "      <td>2.0</td>\n",
       "      <td>928.0</td>\n",
       "      <td>16800.0</td>\n",
       "      <td>57666800.0</td>\n",
       "      <td>52200.0</td>\n",
       "      <td>2010</td>\n",
       "      <td>1.0</td>\n",
       "      <td>4.0</td>\n",
       "      <td>62141.0</td>\n",
       "      <td>1.0</td>\n",
       "    </tr>\n",
       "    <tr>\n",
       "      <th>252</th>\n",
       "      <td>공연장</td>\n",
       "      <td>국립국악원</td>\n",
       "      <td>2</td>\n",
       "      <td>1.0</td>\n",
       "      <td>59.0</td>\n",
       "      <td>0.0</td>\n",
       "      <td>1.0</td>\n",
       "      <td>2010-07-30</td>\n",
       "      <td>2021-07-14</td>\n",
       "      <td>2021-07-14</td>\n",
       "      <td>0.0</td>\n",
       "      <td>2877.0</td>\n",
       "      <td>6153.0</td>\n",
       "      <td>18409600.0</td>\n",
       "      <td>39600.0</td>\n",
       "      <td>2010</td>\n",
       "      <td>1.0</td>\n",
       "      <td>3.0</td>\n",
       "      <td>6399.0</td>\n",
       "      <td>1.0</td>\n",
       "    </tr>\n",
       "    <tr>\n",
       "      <th>117</th>\n",
       "      <td>중앙산하기관</td>\n",
       "      <td>재단법인 국악방송</td>\n",
       "      <td>2</td>\n",
       "      <td>1.0</td>\n",
       "      <td>35.0</td>\n",
       "      <td>2.0</td>\n",
       "      <td>1.0</td>\n",
       "      <td>2011-10-10</td>\n",
       "      <td>2021-07-14</td>\n",
       "      <td>2021-07-15</td>\n",
       "      <td>1.0</td>\n",
       "      <td>3087.0</td>\n",
       "      <td>360.0</td>\n",
       "      <td>16339100.0</td>\n",
       "      <td>32800.0</td>\n",
       "      <td>2011</td>\n",
       "      <td>1.0</td>\n",
       "      <td>5.0</td>\n",
       "      <td>5293.0</td>\n",
       "      <td>1.0</td>\n",
       "    </tr>\n",
       "    <tr>\n",
       "      <th>119</th>\n",
       "      <td>중앙산하기관</td>\n",
       "      <td>한국관광공사</td>\n",
       "      <td>1</td>\n",
       "      <td>1.0</td>\n",
       "      <td>13.0</td>\n",
       "      <td>2.0</td>\n",
       "      <td>1.0</td>\n",
       "      <td>2019-10-04</td>\n",
       "      <td>2021-07-09</td>\n",
       "      <td>2021-07-15</td>\n",
       "      <td>6.0</td>\n",
       "      <td>147.0</td>\n",
       "      <td>13600.0</td>\n",
       "      <td>6763700.0</td>\n",
       "      <td>30800.0</td>\n",
       "      <td>2019</td>\n",
       "      <td>1.0</td>\n",
       "      <td>5.0</td>\n",
       "      <td>46012.0</td>\n",
       "      <td>1.0</td>\n",
       "    </tr>\n",
       "    <tr>\n",
       "      <th>301</th>\n",
       "      <td>공연장</td>\n",
       "      <td>대구오페라하우스</td>\n",
       "      <td>2</td>\n",
       "      <td>1.0</td>\n",
       "      <td>0.0</td>\n",
       "      <td>0.0</td>\n",
       "      <td>1.0</td>\n",
       "      <td>2019-12-04</td>\n",
       "      <td>2021-07-01</td>\n",
       "      <td>2021-07-23</td>\n",
       "      <td>22.0</td>\n",
       "      <td>66.0</td>\n",
       "      <td>1752.0</td>\n",
       "      <td>3170600.0</td>\n",
       "      <td>26000.0</td>\n",
       "      <td>2019</td>\n",
       "      <td>0.0</td>\n",
       "      <td>2.0</td>\n",
       "      <td>48039.0</td>\n",
       "      <td>1.0</td>\n",
       "    </tr>\n",
       "    <tr>\n",
       "      <th>125</th>\n",
       "      <td>중앙산하기관</td>\n",
       "      <td>한국문화정보원</td>\n",
       "      <td>2</td>\n",
       "      <td>1.0</td>\n",
       "      <td>18.0</td>\n",
       "      <td>2.0</td>\n",
       "      <td>1.0</td>\n",
       "      <td>2011-03-10</td>\n",
       "      <td>2021-07-15</td>\n",
       "      <td>2021-07-15</td>\n",
       "      <td>0.0</td>\n",
       "      <td>2386.0</td>\n",
       "      <td>73.0</td>\n",
       "      <td>12715000.0</td>\n",
       "      <td>23400.0</td>\n",
       "      <td>2011</td>\n",
       "      <td>1.0</td>\n",
       "      <td>5.0</td>\n",
       "      <td>5329.0</td>\n",
       "      <td>1.0</td>\n",
       "    </tr>\n",
       "    <tr>\n",
       "      <th>0</th>\n",
       "      <td>미술관</td>\n",
       "      <td>국립현대미술관</td>\n",
       "      <td>2</td>\n",
       "      <td>1.0</td>\n",
       "      <td>16.0</td>\n",
       "      <td>0.0</td>\n",
       "      <td>1.0</td>\n",
       "      <td>2013-05-14</td>\n",
       "      <td>2021-07-10</td>\n",
       "      <td>2021-07-14</td>\n",
       "      <td>4.0</td>\n",
       "      <td>883.0</td>\n",
       "      <td>11900.0</td>\n",
       "      <td>6538000.0</td>\n",
       "      <td>19700.0</td>\n",
       "      <td>2013</td>\n",
       "      <td>1.0</td>\n",
       "      <td>3.0</td>\n",
       "      <td>7404.0</td>\n",
       "      <td>1.0</td>\n",
       "    </tr>\n",
       "    <tr>\n",
       "      <th>251</th>\n",
       "      <td>공연장</td>\n",
       "      <td>국립극장</td>\n",
       "      <td>2</td>\n",
       "      <td>0.0</td>\n",
       "      <td>9.0</td>\n",
       "      <td>0.0</td>\n",
       "      <td>1.0</td>\n",
       "      <td>2012-02-07</td>\n",
       "      <td>2021-07-14</td>\n",
       "      <td>2021-07-14</td>\n",
       "      <td>0.0</td>\n",
       "      <td>584.0</td>\n",
       "      <td>2600.0</td>\n",
       "      <td>3499300.0</td>\n",
       "      <td>17300.0</td>\n",
       "      <td>2012</td>\n",
       "      <td>1.0</td>\n",
       "      <td>2.0</td>\n",
       "      <td>5992.0</td>\n",
       "      <td>1.0</td>\n",
       "    </tr>\n",
       "    <tr>\n",
       "      <th>284</th>\n",
       "      <td>공연장</td>\n",
       "      <td>경기아트센터</td>\n",
       "      <td>2</td>\n",
       "      <td>1.0</td>\n",
       "      <td>18.0</td>\n",
       "      <td>0.0</td>\n",
       "      <td>1.0</td>\n",
       "      <td>2011-04-18</td>\n",
       "      <td>2021-07-21</td>\n",
       "      <td>2021-07-23</td>\n",
       "      <td>2.0</td>\n",
       "      <td>760.0</td>\n",
       "      <td>3346.0</td>\n",
       "      <td>2724200.0</td>\n",
       "      <td>13600.0</td>\n",
       "      <td>2011</td>\n",
       "      <td>1.0</td>\n",
       "      <td>3.0</td>\n",
       "      <td>3584.0</td>\n",
       "      <td>1.0</td>\n",
       "    </tr>\n",
       "  </tbody>\n",
       "</table>\n",
       "</div>"
      ],
      "text/plain": [
       "       기관분류        기관명  접근성   링크  재생목록   채널   설명         가입일      최근 업로드  \\\n",
       "133  중앙산하기관    해외문화홍보원    2  1.0  47.0  2.0  1.0  2009-10-27  2021-07-15   \n",
       "132  중앙산하기관   한국콘텐츠진흥원    2  1.0  30.0  1.0  1.0  2010-10-02  2021-07-13   \n",
       "252     공연장      국립국악원    2  1.0  59.0  0.0  1.0  2010-07-30  2021-07-14   \n",
       "117  중앙산하기관  재단법인 국악방송    2  1.0  35.0  2.0  1.0  2011-10-10  2021-07-14   \n",
       "119  중앙산하기관     한국관광공사    1  1.0  13.0  2.0  1.0  2019-10-04  2021-07-09   \n",
       "301     공연장   대구오페라하우스    2  1.0   0.0  0.0  1.0  2019-12-04  2021-07-01   \n",
       "125  중앙산하기관    한국문화정보원    2  1.0  18.0  2.0  1.0  2011-03-10  2021-07-15   \n",
       "0       미술관    국립현대미술관    2  1.0  16.0  0.0  1.0  2013-05-14  2021-07-10   \n",
       "251     공연장       국립극장    2  0.0   9.0  0.0  1.0  2012-02-07  2021-07-14   \n",
       "284     공연장     경기아트센터    2  1.0  18.0  0.0  1.0  2011-04-18  2021-07-21   \n",
       "\n",
       "             기준  업로드 기간  동영상 개수   평균 조회수          조회수       구독자  가입연도  \\\n",
       "133  2021-07-15     0.0  1483.0   6508.0  108000000.0  149000.0  2009   \n",
       "132  2021-07-15     2.0   928.0  16800.0   57666800.0   52200.0  2010   \n",
       "252  2021-07-14     0.0  2877.0   6153.0   18409600.0   39600.0  2010   \n",
       "117  2021-07-15     1.0  3087.0    360.0   16339100.0   32800.0  2011   \n",
       "119  2021-07-15     6.0   147.0  13600.0    6763700.0   30800.0  2019   \n",
       "301  2021-07-23    22.0    66.0   1752.0    3170600.0   26000.0  2019   \n",
       "125  2021-07-15     0.0  2386.0     73.0   12715000.0   23400.0  2011   \n",
       "0    2021-07-14     4.0   883.0  11900.0    6538000.0   19700.0  2013   \n",
       "251  2021-07-14     0.0   584.0   2600.0    3499300.0   17300.0  2012   \n",
       "284  2021-07-23     2.0   760.0   3346.0    2724200.0   13600.0  2011   \n",
       "\n",
       "     재생목록 사용  활용능력  전체 평균 조회수  활성화  \n",
       "133      1.0   5.0    72825.0  1.0  \n",
       "132      1.0   4.0    62141.0  1.0  \n",
       "252      1.0   3.0     6399.0  1.0  \n",
       "117      1.0   5.0     5293.0  1.0  \n",
       "119      1.0   5.0    46012.0  1.0  \n",
       "301      0.0   2.0    48039.0  1.0  \n",
       "125      1.0   5.0     5329.0  1.0  \n",
       "0        1.0   3.0     7404.0  1.0  \n",
       "251      1.0   2.0     5992.0  1.0  \n",
       "284      1.0   3.0     3584.0  1.0  "
      ]
     },
     "execution_count": 26,
     "metadata": {},
     "output_type": "execute_result"
    }
   ],
   "source": [
    "df_total.sort_values('구독자', ascending = False).head(10)"
   ]
  },
  {
   "cell_type": "markdown",
   "id": "daff96bf",
   "metadata": {},
   "source": [
    "## 3.3. 전체 평균 조회수 상위 10개 기관"
   ]
  },
  {
   "cell_type": "code",
   "execution_count": 27,
   "id": "27aa7699",
   "metadata": {
    "ExecuteTime": {
     "end_time": "2023-04-05T05:06:45.755261Z",
     "start_time": "2023-04-05T05:06:45.732032Z"
    }
   },
   "outputs": [
    {
     "data": {
      "text/html": [
       "<div>\n",
       "<style scoped>\n",
       "    .dataframe tbody tr th:only-of-type {\n",
       "        vertical-align: middle;\n",
       "    }\n",
       "\n",
       "    .dataframe tbody tr th {\n",
       "        vertical-align: top;\n",
       "    }\n",
       "\n",
       "    .dataframe thead th {\n",
       "        text-align: right;\n",
       "    }\n",
       "</style>\n",
       "<table border=\"1\" class=\"dataframe\">\n",
       "  <thead>\n",
       "    <tr style=\"text-align: right;\">\n",
       "      <th></th>\n",
       "      <th>기관분류</th>\n",
       "      <th>기관명</th>\n",
       "      <th>접근성</th>\n",
       "      <th>링크</th>\n",
       "      <th>재생목록</th>\n",
       "      <th>채널</th>\n",
       "      <th>설명</th>\n",
       "      <th>가입일</th>\n",
       "      <th>최근 업로드</th>\n",
       "      <th>기준</th>\n",
       "      <th>업로드 기간</th>\n",
       "      <th>동영상 개수</th>\n",
       "      <th>평균 조회수</th>\n",
       "      <th>조회수</th>\n",
       "      <th>구독자</th>\n",
       "      <th>가입연도</th>\n",
       "      <th>재생목록 사용</th>\n",
       "      <th>활용능력</th>\n",
       "      <th>전체 평균 조회수</th>\n",
       "      <th>활성화</th>\n",
       "    </tr>\n",
       "  </thead>\n",
       "  <tbody>\n",
       "    <tr>\n",
       "      <th>133</th>\n",
       "      <td>중앙산하기관</td>\n",
       "      <td>해외문화홍보원</td>\n",
       "      <td>2</td>\n",
       "      <td>1.0</td>\n",
       "      <td>47.0</td>\n",
       "      <td>2.0</td>\n",
       "      <td>1.0</td>\n",
       "      <td>2009-10-27</td>\n",
       "      <td>2021-07-15</td>\n",
       "      <td>2021-07-15</td>\n",
       "      <td>0.0</td>\n",
       "      <td>1483.0</td>\n",
       "      <td>6508.0</td>\n",
       "      <td>108000000.0</td>\n",
       "      <td>149000.0</td>\n",
       "      <td>2009</td>\n",
       "      <td>1.0</td>\n",
       "      <td>5.0</td>\n",
       "      <td>72825.0</td>\n",
       "      <td>1.0</td>\n",
       "    </tr>\n",
       "    <tr>\n",
       "      <th>132</th>\n",
       "      <td>중앙산하기관</td>\n",
       "      <td>한국콘텐츠진흥원</td>\n",
       "      <td>2</td>\n",
       "      <td>1.0</td>\n",
       "      <td>30.0</td>\n",
       "      <td>1.0</td>\n",
       "      <td>1.0</td>\n",
       "      <td>2010-10-02</td>\n",
       "      <td>2021-07-13</td>\n",
       "      <td>2021-07-15</td>\n",
       "      <td>2.0</td>\n",
       "      <td>928.0</td>\n",
       "      <td>16800.0</td>\n",
       "      <td>57666800.0</td>\n",
       "      <td>52200.0</td>\n",
       "      <td>2010</td>\n",
       "      <td>1.0</td>\n",
       "      <td>4.0</td>\n",
       "      <td>62141.0</td>\n",
       "      <td>1.0</td>\n",
       "    </tr>\n",
       "    <tr>\n",
       "      <th>301</th>\n",
       "      <td>공연장</td>\n",
       "      <td>대구오페라하우스</td>\n",
       "      <td>2</td>\n",
       "      <td>1.0</td>\n",
       "      <td>0.0</td>\n",
       "      <td>0.0</td>\n",
       "      <td>1.0</td>\n",
       "      <td>2019-12-04</td>\n",
       "      <td>2021-07-01</td>\n",
       "      <td>2021-07-23</td>\n",
       "      <td>22.0</td>\n",
       "      <td>66.0</td>\n",
       "      <td>1752.0</td>\n",
       "      <td>3170600.0</td>\n",
       "      <td>26000.0</td>\n",
       "      <td>2019</td>\n",
       "      <td>0.0</td>\n",
       "      <td>2.0</td>\n",
       "      <td>48039.0</td>\n",
       "      <td>1.0</td>\n",
       "    </tr>\n",
       "    <tr>\n",
       "      <th>119</th>\n",
       "      <td>중앙산하기관</td>\n",
       "      <td>한국관광공사</td>\n",
       "      <td>1</td>\n",
       "      <td>1.0</td>\n",
       "      <td>13.0</td>\n",
       "      <td>2.0</td>\n",
       "      <td>1.0</td>\n",
       "      <td>2019-10-04</td>\n",
       "      <td>2021-07-09</td>\n",
       "      <td>2021-07-15</td>\n",
       "      <td>6.0</td>\n",
       "      <td>147.0</td>\n",
       "      <td>13600.0</td>\n",
       "      <td>6763700.0</td>\n",
       "      <td>30800.0</td>\n",
       "      <td>2019</td>\n",
       "      <td>1.0</td>\n",
       "      <td>5.0</td>\n",
       "      <td>46012.0</td>\n",
       "      <td>1.0</td>\n",
       "    </tr>\n",
       "    <tr>\n",
       "      <th>48</th>\n",
       "      <td>박물관</td>\n",
       "      <td>국립진주박물관</td>\n",
       "      <td>2</td>\n",
       "      <td>0.0</td>\n",
       "      <td>6.0</td>\n",
       "      <td>0.0</td>\n",
       "      <td>0.0</td>\n",
       "      <td>2015-01-06</td>\n",
       "      <td>2021-07-02</td>\n",
       "      <td>2021-07-14</td>\n",
       "      <td>12.0</td>\n",
       "      <td>57.0</td>\n",
       "      <td>33200.0</td>\n",
       "      <td>1605600.0</td>\n",
       "      <td>9380.0</td>\n",
       "      <td>2015</td>\n",
       "      <td>1.0</td>\n",
       "      <td>1.0</td>\n",
       "      <td>28168.0</td>\n",
       "      <td>1.0</td>\n",
       "    </tr>\n",
       "    <tr>\n",
       "      <th>59</th>\n",
       "      <td>박물관</td>\n",
       "      <td>부산영화체험박물관</td>\n",
       "      <td>2</td>\n",
       "      <td>0.0</td>\n",
       "      <td>0.0</td>\n",
       "      <td>0.0</td>\n",
       "      <td>0.0</td>\n",
       "      <td>2017-05-12</td>\n",
       "      <td>2020-01-08</td>\n",
       "      <td>2021-07-14</td>\n",
       "      <td>553.0</td>\n",
       "      <td>12.0</td>\n",
       "      <td>19500.0</td>\n",
       "      <td>293100.0</td>\n",
       "      <td>39.0</td>\n",
       "      <td>2017</td>\n",
       "      <td>0.0</td>\n",
       "      <td>0.0</td>\n",
       "      <td>24425.0</td>\n",
       "      <td>0.0</td>\n",
       "    </tr>\n",
       "    <tr>\n",
       "      <th>130</th>\n",
       "      <td>중앙산하기관</td>\n",
       "      <td>한국저작권위원회</td>\n",
       "      <td>2</td>\n",
       "      <td>1.0</td>\n",
       "      <td>14.0</td>\n",
       "      <td>0.0</td>\n",
       "      <td>1.0</td>\n",
       "      <td>2014-04-28</td>\n",
       "      <td>2021-05-05</td>\n",
       "      <td>2021-07-15</td>\n",
       "      <td>71.0</td>\n",
       "      <td>666.0</td>\n",
       "      <td>171.0</td>\n",
       "      <td>11802200.0</td>\n",
       "      <td>6080.0</td>\n",
       "      <td>2014</td>\n",
       "      <td>1.0</td>\n",
       "      <td>3.0</td>\n",
       "      <td>17721.0</td>\n",
       "      <td>1.0</td>\n",
       "    </tr>\n",
       "    <tr>\n",
       "      <th>111</th>\n",
       "      <td>중앙산하기관</td>\n",
       "      <td>게임물관리위원회</td>\n",
       "      <td>2</td>\n",
       "      <td>0.0</td>\n",
       "      <td>4.0</td>\n",
       "      <td>0.0</td>\n",
       "      <td>1.0</td>\n",
       "      <td>2016-12-08</td>\n",
       "      <td>2021-01-12</td>\n",
       "      <td>2021-07-15</td>\n",
       "      <td>184.0</td>\n",
       "      <td>30.0</td>\n",
       "      <td>16900.0</td>\n",
       "      <td>466100.0</td>\n",
       "      <td>495.0</td>\n",
       "      <td>2016</td>\n",
       "      <td>1.0</td>\n",
       "      <td>2.0</td>\n",
       "      <td>15537.0</td>\n",
       "      <td>0.0</td>\n",
       "    </tr>\n",
       "    <tr>\n",
       "      <th>115</th>\n",
       "      <td>중앙산하기관</td>\n",
       "      <td>영상물등급위원회</td>\n",
       "      <td>1</td>\n",
       "      <td>0.0</td>\n",
       "      <td>0.0</td>\n",
       "      <td>1.0</td>\n",
       "      <td>1.0</td>\n",
       "      <td>2014-07-15</td>\n",
       "      <td>2020-12-16</td>\n",
       "      <td>2021-07-15</td>\n",
       "      <td>211.0</td>\n",
       "      <td>23.0</td>\n",
       "      <td>14600.0</td>\n",
       "      <td>337000.0</td>\n",
       "      <td>214.0</td>\n",
       "      <td>2014</td>\n",
       "      <td>0.0</td>\n",
       "      <td>2.0</td>\n",
       "      <td>14652.0</td>\n",
       "      <td>0.0</td>\n",
       "    </tr>\n",
       "    <tr>\n",
       "      <th>224</th>\n",
       "      <td>지역문화재단</td>\n",
       "      <td>인제군문화재단</td>\n",
       "      <td>1</td>\n",
       "      <td>1.0</td>\n",
       "      <td>7.0</td>\n",
       "      <td>1.0</td>\n",
       "      <td>1.0</td>\n",
       "      <td>2018-11-11</td>\n",
       "      <td>2021-07-12</td>\n",
       "      <td>2021-07-15</td>\n",
       "      <td>3.0</td>\n",
       "      <td>76.0</td>\n",
       "      <td>139.0</td>\n",
       "      <td>1016700.0</td>\n",
       "      <td>394.0</td>\n",
       "      <td>2018</td>\n",
       "      <td>1.0</td>\n",
       "      <td>4.0</td>\n",
       "      <td>13378.0</td>\n",
       "      <td>1.0</td>\n",
       "    </tr>\n",
       "  </tbody>\n",
       "</table>\n",
       "</div>"
      ],
      "text/plain": [
       "       기관분류        기관명  접근성   링크  재생목록   채널   설명         가입일      최근 업로드  \\\n",
       "133  중앙산하기관    해외문화홍보원    2  1.0  47.0  2.0  1.0  2009-10-27  2021-07-15   \n",
       "132  중앙산하기관   한국콘텐츠진흥원    2  1.0  30.0  1.0  1.0  2010-10-02  2021-07-13   \n",
       "301     공연장   대구오페라하우스    2  1.0   0.0  0.0  1.0  2019-12-04  2021-07-01   \n",
       "119  중앙산하기관     한국관광공사    1  1.0  13.0  2.0  1.0  2019-10-04  2021-07-09   \n",
       "48      박물관    국립진주박물관    2  0.0   6.0  0.0  0.0  2015-01-06  2021-07-02   \n",
       "59      박물관  부산영화체험박물관    2  0.0   0.0  0.0  0.0  2017-05-12  2020-01-08   \n",
       "130  중앙산하기관   한국저작권위원회    2  1.0  14.0  0.0  1.0  2014-04-28  2021-05-05   \n",
       "111  중앙산하기관   게임물관리위원회    2  0.0   4.0  0.0  1.0  2016-12-08  2021-01-12   \n",
       "115  중앙산하기관   영상물등급위원회    1  0.0   0.0  1.0  1.0  2014-07-15  2020-12-16   \n",
       "224  지역문화재단    인제군문화재단    1  1.0   7.0  1.0  1.0  2018-11-11  2021-07-12   \n",
       "\n",
       "             기준  업로드 기간  동영상 개수   평균 조회수          조회수       구독자  가입연도  \\\n",
       "133  2021-07-15     0.0  1483.0   6508.0  108000000.0  149000.0  2009   \n",
       "132  2021-07-15     2.0   928.0  16800.0   57666800.0   52200.0  2010   \n",
       "301  2021-07-23    22.0    66.0   1752.0    3170600.0   26000.0  2019   \n",
       "119  2021-07-15     6.0   147.0  13600.0    6763700.0   30800.0  2019   \n",
       "48   2021-07-14    12.0    57.0  33200.0    1605600.0    9380.0  2015   \n",
       "59   2021-07-14   553.0    12.0  19500.0     293100.0      39.0  2017   \n",
       "130  2021-07-15    71.0   666.0    171.0   11802200.0    6080.0  2014   \n",
       "111  2021-07-15   184.0    30.0  16900.0     466100.0     495.0  2016   \n",
       "115  2021-07-15   211.0    23.0  14600.0     337000.0     214.0  2014   \n",
       "224  2021-07-15     3.0    76.0    139.0    1016700.0     394.0  2018   \n",
       "\n",
       "     재생목록 사용  활용능력  전체 평균 조회수  활성화  \n",
       "133      1.0   5.0    72825.0  1.0  \n",
       "132      1.0   4.0    62141.0  1.0  \n",
       "301      0.0   2.0    48039.0  1.0  \n",
       "119      1.0   5.0    46012.0  1.0  \n",
       "48       1.0   1.0    28168.0  1.0  \n",
       "59       0.0   0.0    24425.0  0.0  \n",
       "130      1.0   3.0    17721.0  1.0  \n",
       "111      1.0   2.0    15537.0  0.0  \n",
       "115      0.0   2.0    14652.0  0.0  \n",
       "224      1.0   4.0    13378.0  1.0  "
      ]
     },
     "execution_count": 27,
     "metadata": {},
     "output_type": "execute_result"
    }
   ],
   "source": [
    "df_total.sort_values('전체 평균 조회수', ascending = False).head(10)"
   ]
  },
  {
   "cell_type": "code",
   "execution_count": 28,
   "id": "b874dc50",
   "metadata": {
    "ExecuteTime": {
     "end_time": "2023-04-05T05:06:45.781912Z",
     "start_time": "2023-04-05T05:06:45.757290Z"
    }
   },
   "outputs": [
    {
     "data": {
      "text/html": [
       "<div>\n",
       "<style scoped>\n",
       "    .dataframe tbody tr th:only-of-type {\n",
       "        vertical-align: middle;\n",
       "    }\n",
       "\n",
       "    .dataframe tbody tr th {\n",
       "        vertical-align: top;\n",
       "    }\n",
       "\n",
       "    .dataframe thead th {\n",
       "        text-align: right;\n",
       "    }\n",
       "</style>\n",
       "<table border=\"1\" class=\"dataframe\">\n",
       "  <thead>\n",
       "    <tr style=\"text-align: right;\">\n",
       "      <th></th>\n",
       "      <th>기관분류</th>\n",
       "      <th>기관명</th>\n",
       "      <th>접근성</th>\n",
       "      <th>링크</th>\n",
       "      <th>재생목록</th>\n",
       "      <th>채널</th>\n",
       "      <th>설명</th>\n",
       "      <th>가입일</th>\n",
       "      <th>최근 업로드</th>\n",
       "      <th>기준</th>\n",
       "      <th>업로드 기간</th>\n",
       "      <th>동영상 개수</th>\n",
       "      <th>평균 조회수</th>\n",
       "      <th>조회수</th>\n",
       "      <th>구독자</th>\n",
       "      <th>가입연도</th>\n",
       "      <th>재생목록 사용</th>\n",
       "      <th>활용능력</th>\n",
       "      <th>전체 평균 조회수</th>\n",
       "      <th>활성화</th>\n",
       "    </tr>\n",
       "  </thead>\n",
       "  <tbody>\n",
       "    <tr>\n",
       "      <th>174</th>\n",
       "      <td>지역문화재단</td>\n",
       "      <td>성남문화재단</td>\n",
       "      <td>2</td>\n",
       "      <td>1.0</td>\n",
       "      <td>6.0</td>\n",
       "      <td>0.0</td>\n",
       "      <td>1.0</td>\n",
       "      <td>2013-09-09</td>\n",
       "      <td>2021-07-06</td>\n",
       "      <td>2021-07-15</td>\n",
       "      <td>9.0</td>\n",
       "      <td>392.0</td>\n",
       "      <td>1879.0</td>\n",
       "      <td>11436.0</td>\n",
       "      <td>4490.0</td>\n",
       "      <td>2013</td>\n",
       "      <td>1.0</td>\n",
       "      <td>3.0</td>\n",
       "      <td>29.0</td>\n",
       "      <td>1.0</td>\n",
       "    </tr>\n",
       "    <tr>\n",
       "      <th>149</th>\n",
       "      <td>지역문화재단</td>\n",
       "      <td>제주문화예술재단</td>\n",
       "      <td>1</td>\n",
       "      <td>1.0</td>\n",
       "      <td>9.0</td>\n",
       "      <td>0.0</td>\n",
       "      <td>1.0</td>\n",
       "      <td>2020-11-05</td>\n",
       "      <td>2021-06-03</td>\n",
       "      <td>2021-07-15</td>\n",
       "      <td>42.0</td>\n",
       "      <td>122.0</td>\n",
       "      <td>40.0</td>\n",
       "      <td>9128.0</td>\n",
       "      <td>183.0</td>\n",
       "      <td>2020</td>\n",
       "      <td>1.0</td>\n",
       "      <td>3.0</td>\n",
       "      <td>75.0</td>\n",
       "      <td>1.0</td>\n",
       "    </tr>\n",
       "    <tr>\n",
       "      <th>196</th>\n",
       "      <td>지역문화재단</td>\n",
       "      <td>금정문화재단</td>\n",
       "      <td>1</td>\n",
       "      <td>0.0</td>\n",
       "      <td>28.0</td>\n",
       "      <td>0.0</td>\n",
       "      <td>1.0</td>\n",
       "      <td>2016-07-11</td>\n",
       "      <td>2021-07-09</td>\n",
       "      <td>2021-07-15</td>\n",
       "      <td>6.0</td>\n",
       "      <td>239.0</td>\n",
       "      <td>63.0</td>\n",
       "      <td>18800.0</td>\n",
       "      <td>108.0</td>\n",
       "      <td>2016</td>\n",
       "      <td>1.0</td>\n",
       "      <td>2.0</td>\n",
       "      <td>79.0</td>\n",
       "      <td>1.0</td>\n",
       "    </tr>\n",
       "    <tr>\n",
       "      <th>147</th>\n",
       "      <td>지역문화재단</td>\n",
       "      <td>전북문화관광재단</td>\n",
       "      <td>2</td>\n",
       "      <td>1.0</td>\n",
       "      <td>5.0</td>\n",
       "      <td>0.0</td>\n",
       "      <td>1.0</td>\n",
       "      <td>2018-01-17</td>\n",
       "      <td>2021-07-06</td>\n",
       "      <td>2021-07-15</td>\n",
       "      <td>9.0</td>\n",
       "      <td>339.0</td>\n",
       "      <td>96.0</td>\n",
       "      <td>36200.0</td>\n",
       "      <td>744.0</td>\n",
       "      <td>2018</td>\n",
       "      <td>1.0</td>\n",
       "      <td>3.0</td>\n",
       "      <td>107.0</td>\n",
       "      <td>1.0</td>\n",
       "    </tr>\n",
       "    <tr>\n",
       "      <th>140</th>\n",
       "      <td>지역문화재단</td>\n",
       "      <td>울산문화재단</td>\n",
       "      <td>2</td>\n",
       "      <td>0.0</td>\n",
       "      <td>8.0</td>\n",
       "      <td>1.0</td>\n",
       "      <td>1.0</td>\n",
       "      <td>2020-02-17</td>\n",
       "      <td>2021-07-14</td>\n",
       "      <td>2021-07-15</td>\n",
       "      <td>1.0</td>\n",
       "      <td>184.0</td>\n",
       "      <td>6.0</td>\n",
       "      <td>23000.0</td>\n",
       "      <td>401.0</td>\n",
       "      <td>2020</td>\n",
       "      <td>1.0</td>\n",
       "      <td>3.0</td>\n",
       "      <td>125.0</td>\n",
       "      <td>1.0</td>\n",
       "    </tr>\n",
       "    <tr>\n",
       "      <th>214</th>\n",
       "      <td>지역문화재단</td>\n",
       "      <td>완주문화재단</td>\n",
       "      <td>2</td>\n",
       "      <td>1.0</td>\n",
       "      <td>12.0</td>\n",
       "      <td>0.0</td>\n",
       "      <td>1.0</td>\n",
       "      <td>2017-08-04</td>\n",
       "      <td>2021-06-23</td>\n",
       "      <td>2021-07-15</td>\n",
       "      <td>22.0</td>\n",
       "      <td>106.0</td>\n",
       "      <td>82.0</td>\n",
       "      <td>13600.0</td>\n",
       "      <td>120.0</td>\n",
       "      <td>2017</td>\n",
       "      <td>1.0</td>\n",
       "      <td>3.0</td>\n",
       "      <td>128.0</td>\n",
       "      <td>1.0</td>\n",
       "    </tr>\n",
       "    <tr>\n",
       "      <th>141</th>\n",
       "      <td>지역문화재단</td>\n",
       "      <td>세종시문화재단</td>\n",
       "      <td>1</td>\n",
       "      <td>0.0</td>\n",
       "      <td>11.0</td>\n",
       "      <td>0.0</td>\n",
       "      <td>1.0</td>\n",
       "      <td>2017-05-25</td>\n",
       "      <td>2021-07-09</td>\n",
       "      <td>2021-07-15</td>\n",
       "      <td>6.0</td>\n",
       "      <td>360.0</td>\n",
       "      <td>152.0</td>\n",
       "      <td>50300.0</td>\n",
       "      <td>643.0</td>\n",
       "      <td>2017</td>\n",
       "      <td>1.0</td>\n",
       "      <td>2.0</td>\n",
       "      <td>140.0</td>\n",
       "      <td>1.0</td>\n",
       "    </tr>\n",
       "    <tr>\n",
       "      <th>137</th>\n",
       "      <td>지역문화재단</td>\n",
       "      <td>인천문화재단</td>\n",
       "      <td>2</td>\n",
       "      <td>0.0</td>\n",
       "      <td>7.0</td>\n",
       "      <td>0.0</td>\n",
       "      <td>1.0</td>\n",
       "      <td>2015-07-07</td>\n",
       "      <td>2021-06-21</td>\n",
       "      <td>2021-07-15</td>\n",
       "      <td>24.0</td>\n",
       "      <td>210.0</td>\n",
       "      <td>184.0</td>\n",
       "      <td>30600.0</td>\n",
       "      <td>482.0</td>\n",
       "      <td>2015</td>\n",
       "      <td>1.0</td>\n",
       "      <td>2.0</td>\n",
       "      <td>146.0</td>\n",
       "      <td>1.0</td>\n",
       "    </tr>\n",
       "    <tr>\n",
       "      <th>146</th>\n",
       "      <td>지역문화재단</td>\n",
       "      <td>전남문화관광재단</td>\n",
       "      <td>2</td>\n",
       "      <td>0.0</td>\n",
       "      <td>7.0</td>\n",
       "      <td>1.0</td>\n",
       "      <td>1.0</td>\n",
       "      <td>2016-02-24</td>\n",
       "      <td>2021-07-08</td>\n",
       "      <td>2021-07-15</td>\n",
       "      <td>7.0</td>\n",
       "      <td>340.0</td>\n",
       "      <td>54.0</td>\n",
       "      <td>49500.0</td>\n",
       "      <td>390.0</td>\n",
       "      <td>2016</td>\n",
       "      <td>1.0</td>\n",
       "      <td>3.0</td>\n",
       "      <td>146.0</td>\n",
       "      <td>1.0</td>\n",
       "    </tr>\n",
       "    <tr>\n",
       "      <th>8</th>\n",
       "      <td>미술관</td>\n",
       "      <td>대전시립미술관</td>\n",
       "      <td>1</td>\n",
       "      <td>0.0</td>\n",
       "      <td>11.0</td>\n",
       "      <td>0.0</td>\n",
       "      <td>1.0</td>\n",
       "      <td>2020-03-30</td>\n",
       "      <td>2021-07-08</td>\n",
       "      <td>2021-07-14</td>\n",
       "      <td>6.0</td>\n",
       "      <td>145.0</td>\n",
       "      <td>78.0</td>\n",
       "      <td>23000.0</td>\n",
       "      <td>308.0</td>\n",
       "      <td>2020</td>\n",
       "      <td>1.0</td>\n",
       "      <td>2.0</td>\n",
       "      <td>159.0</td>\n",
       "      <td>1.0</td>\n",
       "    </tr>\n",
       "  </tbody>\n",
       "</table>\n",
       "</div>"
      ],
      "text/plain": [
       "       기관분류       기관명  접근성   링크  재생목록   채널   설명         가입일      최근 업로드  \\\n",
       "174  지역문화재단    성남문화재단    2  1.0   6.0  0.0  1.0  2013-09-09  2021-07-06   \n",
       "149  지역문화재단  제주문화예술재단    1  1.0   9.0  0.0  1.0  2020-11-05  2021-06-03   \n",
       "196  지역문화재단    금정문화재단    1  0.0  28.0  0.0  1.0  2016-07-11  2021-07-09   \n",
       "147  지역문화재단  전북문화관광재단    2  1.0   5.0  0.0  1.0  2018-01-17  2021-07-06   \n",
       "140  지역문화재단    울산문화재단    2  0.0   8.0  1.0  1.0  2020-02-17  2021-07-14   \n",
       "214  지역문화재단    완주문화재단    2  1.0  12.0  0.0  1.0  2017-08-04  2021-06-23   \n",
       "141  지역문화재단   세종시문화재단    1  0.0  11.0  0.0  1.0  2017-05-25  2021-07-09   \n",
       "137  지역문화재단    인천문화재단    2  0.0   7.0  0.0  1.0  2015-07-07  2021-06-21   \n",
       "146  지역문화재단  전남문화관광재단    2  0.0   7.0  1.0  1.0  2016-02-24  2021-07-08   \n",
       "8       미술관   대전시립미술관    1  0.0  11.0  0.0  1.0  2020-03-30  2021-07-08   \n",
       "\n",
       "             기준  업로드 기간  동영상 개수  평균 조회수      조회수     구독자  가입연도  재생목록 사용  활용능력  \\\n",
       "174  2021-07-15     9.0   392.0  1879.0  11436.0  4490.0  2013      1.0   3.0   \n",
       "149  2021-07-15    42.0   122.0    40.0   9128.0   183.0  2020      1.0   3.0   \n",
       "196  2021-07-15     6.0   239.0    63.0  18800.0   108.0  2016      1.0   2.0   \n",
       "147  2021-07-15     9.0   339.0    96.0  36200.0   744.0  2018      1.0   3.0   \n",
       "140  2021-07-15     1.0   184.0     6.0  23000.0   401.0  2020      1.0   3.0   \n",
       "214  2021-07-15    22.0   106.0    82.0  13600.0   120.0  2017      1.0   3.0   \n",
       "141  2021-07-15     6.0   360.0   152.0  50300.0   643.0  2017      1.0   2.0   \n",
       "137  2021-07-15    24.0   210.0   184.0  30600.0   482.0  2015      1.0   2.0   \n",
       "146  2021-07-15     7.0   340.0    54.0  49500.0   390.0  2016      1.0   3.0   \n",
       "8    2021-07-14     6.0   145.0    78.0  23000.0   308.0  2020      1.0   2.0   \n",
       "\n",
       "     전체 평균 조회수  활성화  \n",
       "174       29.0  1.0  \n",
       "149       75.0  1.0  \n",
       "196       79.0  1.0  \n",
       "147      107.0  1.0  \n",
       "140      125.0  1.0  \n",
       "214      128.0  1.0  \n",
       "141      140.0  1.0  \n",
       "137      146.0  1.0  \n",
       "146      146.0  1.0  \n",
       "8        159.0  1.0  "
      ]
     },
     "execution_count": 28,
     "metadata": {},
     "output_type": "execute_result"
    }
   ],
   "source": [
    "df100 = df[df['동영상 개수']>=100]\n",
    "df100.sort_values('전체 평균 조회수').head(10)"
   ]
  },
  {
   "cell_type": "code",
   "execution_count": 29,
   "id": "78c900c9",
   "metadata": {
    "ExecuteTime": {
     "end_time": "2023-04-05T05:06:45.794949Z",
     "start_time": "2023-04-05T05:06:45.784036Z"
    }
   },
   "outputs": [
    {
     "data": {
      "text/plain": [
       "기관분류\n",
       "공연장       2.12\n",
       "미술관       2.62\n",
       "박물관       1.94\n",
       "중앙산하기관    3.35\n",
       "지역문화재단    2.53\n",
       "Name: 활용능력, dtype: float64"
      ]
     },
     "execution_count": 29,
     "metadata": {},
     "output_type": "execute_result"
    }
   ],
   "source": [
    "df.groupby('기관분류').mean().round(2)['활용능력']"
   ]
  },
  {
   "cell_type": "code",
   "execution_count": 30,
   "id": "88a54aba",
   "metadata": {
    "ExecuteTime": {
     "end_time": "2023-04-05T05:06:45.802191Z",
     "start_time": "2023-04-05T05:06:45.796774Z"
    }
   },
   "outputs": [
    {
     "data": {
      "text/plain": [
       "3.0    71\n",
       "2.0    54\n",
       "1.0    40\n",
       "4.0    26\n",
       "0.0    25\n",
       "5.0    22\n",
       "Name: 활용능력, dtype: int64"
      ]
     },
     "execution_count": 30,
     "metadata": {},
     "output_type": "execute_result"
    }
   ],
   "source": [
    "df['활용능력'].value_counts()"
   ]
  },
  {
   "cell_type": "code",
   "execution_count": 31,
   "id": "0bcde944",
   "metadata": {
    "ExecuteTime": {
     "end_time": "2023-04-05T05:06:45.827344Z",
     "start_time": "2023-04-05T05:06:45.804223Z"
    }
   },
   "outputs": [
    {
     "data": {
      "text/html": [
       "<div>\n",
       "<style scoped>\n",
       "    .dataframe tbody tr th:only-of-type {\n",
       "        vertical-align: middle;\n",
       "    }\n",
       "\n",
       "    .dataframe tbody tr th {\n",
       "        vertical-align: top;\n",
       "    }\n",
       "\n",
       "    .dataframe thead th {\n",
       "        text-align: right;\n",
       "    }\n",
       "</style>\n",
       "<table border=\"1\" class=\"dataframe\">\n",
       "  <thead>\n",
       "    <tr style=\"text-align: right;\">\n",
       "      <th></th>\n",
       "      <th>접근성</th>\n",
       "      <th>링크</th>\n",
       "      <th>재생목록</th>\n",
       "      <th>채널</th>\n",
       "      <th>설명</th>\n",
       "      <th>업로드 기간</th>\n",
       "      <th>동영상 개수</th>\n",
       "      <th>평균 조회수</th>\n",
       "      <th>조회수</th>\n",
       "      <th>구독자</th>\n",
       "      <th>재생목록 사용</th>\n",
       "      <th>전체 평균 조회수</th>\n",
       "      <th>활성화</th>\n",
       "    </tr>\n",
       "    <tr>\n",
       "      <th>활용능력</th>\n",
       "      <th></th>\n",
       "      <th></th>\n",
       "      <th></th>\n",
       "      <th></th>\n",
       "      <th></th>\n",
       "      <th></th>\n",
       "      <th></th>\n",
       "      <th></th>\n",
       "      <th></th>\n",
       "      <th></th>\n",
       "      <th></th>\n",
       "      <th></th>\n",
       "      <th></th>\n",
       "    </tr>\n",
       "  </thead>\n",
       "  <tbody>\n",
       "    <tr>\n",
       "      <th>0.0</th>\n",
       "      <td>1.0</td>\n",
       "      <td>0.0</td>\n",
       "      <td>0.0</td>\n",
       "      <td>0.0</td>\n",
       "      <td>0.0</td>\n",
       "      <td>344.0</td>\n",
       "      <td>9.0</td>\n",
       "      <td>1282.0</td>\n",
       "      <td>16748.0</td>\n",
       "      <td>121.0</td>\n",
       "      <td>0.0</td>\n",
       "      <td>1621.0</td>\n",
       "      <td>0.0</td>\n",
       "    </tr>\n",
       "    <tr>\n",
       "      <th>1.0</th>\n",
       "      <td>1.0</td>\n",
       "      <td>0.0</td>\n",
       "      <td>4.0</td>\n",
       "      <td>0.0</td>\n",
       "      <td>0.0</td>\n",
       "      <td>75.0</td>\n",
       "      <td>46.0</td>\n",
       "      <td>1438.0</td>\n",
       "      <td>67109.0</td>\n",
       "      <td>508.0</td>\n",
       "      <td>1.0</td>\n",
       "      <td>1342.0</td>\n",
       "      <td>1.0</td>\n",
       "    </tr>\n",
       "    <tr>\n",
       "      <th>2.0</th>\n",
       "      <td>2.0</td>\n",
       "      <td>0.0</td>\n",
       "      <td>7.0</td>\n",
       "      <td>0.0</td>\n",
       "      <td>1.0</td>\n",
       "      <td>40.0</td>\n",
       "      <td>123.0</td>\n",
       "      <td>1624.0</td>\n",
       "      <td>256373.0</td>\n",
       "      <td>1561.0</td>\n",
       "      <td>1.0</td>\n",
       "      <td>2465.0</td>\n",
       "      <td>1.0</td>\n",
       "    </tr>\n",
       "    <tr>\n",
       "      <th>3.0</th>\n",
       "      <td>2.0</td>\n",
       "      <td>1.0</td>\n",
       "      <td>10.0</td>\n",
       "      <td>0.0</td>\n",
       "      <td>1.0</td>\n",
       "      <td>27.0</td>\n",
       "      <td>257.0</td>\n",
       "      <td>832.0</td>\n",
       "      <td>713621.0</td>\n",
       "      <td>2667.0</td>\n",
       "      <td>1.0</td>\n",
       "      <td>1146.0</td>\n",
       "      <td>1.0</td>\n",
       "    </tr>\n",
       "    <tr>\n",
       "      <th>4.0</th>\n",
       "      <td>2.0</td>\n",
       "      <td>1.0</td>\n",
       "      <td>10.0</td>\n",
       "      <td>1.0</td>\n",
       "      <td>1.0</td>\n",
       "      <td>32.0</td>\n",
       "      <td>311.0</td>\n",
       "      <td>1116.0</td>\n",
       "      <td>2646630.0</td>\n",
       "      <td>4170.0</td>\n",
       "      <td>1.0</td>\n",
       "      <td>4107.0</td>\n",
       "      <td>1.0</td>\n",
       "    </tr>\n",
       "    <tr>\n",
       "      <th>5.0</th>\n",
       "      <td>2.0</td>\n",
       "      <td>1.0</td>\n",
       "      <td>14.0</td>\n",
       "      <td>2.0</td>\n",
       "      <td>1.0</td>\n",
       "      <td>17.0</td>\n",
       "      <td>441.0</td>\n",
       "      <td>1081.0</td>\n",
       "      <td>1888659.0</td>\n",
       "      <td>6637.0</td>\n",
       "      <td>1.0</td>\n",
       "      <td>3539.0</td>\n",
       "      <td>1.0</td>\n",
       "    </tr>\n",
       "  </tbody>\n",
       "</table>\n",
       "</div>"
      ],
      "text/plain": [
       "      접근성   링크  재생목록   채널   설명  업로드 기간  동영상 개수  평균 조회수        조회수     구독자  \\\n",
       "활용능력                                                                        \n",
       "0.0   1.0  0.0   0.0  0.0  0.0   344.0     9.0  1282.0    16748.0   121.0   \n",
       "1.0   1.0  0.0   4.0  0.0  0.0    75.0    46.0  1438.0    67109.0   508.0   \n",
       "2.0   2.0  0.0   7.0  0.0  1.0    40.0   123.0  1624.0   256373.0  1561.0   \n",
       "3.0   2.0  1.0  10.0  0.0  1.0    27.0   257.0   832.0   713621.0  2667.0   \n",
       "4.0   2.0  1.0  10.0  1.0  1.0    32.0   311.0  1116.0  2646630.0  4170.0   \n",
       "5.0   2.0  1.0  14.0  2.0  1.0    17.0   441.0  1081.0  1888659.0  6637.0   \n",
       "\n",
       "      재생목록 사용  전체 평균 조회수  활성화  \n",
       "활용능력                           \n",
       "0.0       0.0     1621.0  0.0  \n",
       "1.0       1.0     1342.0  1.0  \n",
       "2.0       1.0     2465.0  1.0  \n",
       "3.0       1.0     1146.0  1.0  \n",
       "4.0       1.0     4107.0  1.0  \n",
       "5.0       1.0     3539.0  1.0  "
      ]
     },
     "execution_count": 31,
     "metadata": {},
     "output_type": "execute_result"
    }
   ],
   "source": [
    "df.groupby('활용능력').mean().round(0)"
   ]
  }
 ],
 "metadata": {
  "kernelspec": {
   "display_name": "Python 3",
   "language": "python",
   "name": "python3"
  },
  "language_info": {
   "codemirror_mode": {
    "name": "ipython",
    "version": 3
   },
   "file_extension": ".py",
   "mimetype": "text/x-python",
   "name": "python",
   "nbconvert_exporter": "python",
   "pygments_lexer": "ipython3",
   "version": "3.6.9"
  },
  "toc": {
   "base_numbering": 1,
   "nav_menu": {},
   "number_sections": true,
   "sideBar": true,
   "skip_h1_title": false,
   "title_cell": "Table of Contents",
   "title_sidebar": "Contents",
   "toc_cell": false,
   "toc_position": {
    "height": "calc(100% - 180px)",
    "left": "10px",
    "top": "150px",
    "width": "298.075px"
   },
   "toc_section_display": true,
   "toc_window_display": true
  },
  "varInspector": {
   "cols": {
    "lenName": 16,
    "lenType": 16,
    "lenVar": 40
   },
   "kernels_config": {
    "python": {
     "delete_cmd_postfix": "",
     "delete_cmd_prefix": "del ",
     "library": "var_list.py",
     "varRefreshCmd": "print(var_dic_list())"
    },
    "r": {
     "delete_cmd_postfix": ") ",
     "delete_cmd_prefix": "rm(",
     "library": "var_list.r",
     "varRefreshCmd": "cat(var_dic_list()) "
    }
   },
   "types_to_exclude": [
    "module",
    "function",
    "builtin_function_or_method",
    "instance",
    "_Feature"
   ],
   "window_display": false
  }
 },
 "nbformat": 4,
 "nbformat_minor": 5
}
